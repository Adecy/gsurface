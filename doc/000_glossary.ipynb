{
 "cells": [
  {
   "cell_type": "markdown",
   "metadata": {},
   "source": [
    "# Glossary\n",
    "\n",
    "This glossary gather symbols, physic quantities and other terms that may appears in this library.\n",
    "\n",
    "## Miscellaneous\n",
    "\n",
    "- *gsurface* : *Surface Geodesic (Library)*\n",
    "\n",
    "## Solid parametrisations\n",
    "\n",
    "- **Parameters** : Symbol $\\omega = \\begin{bmatrix}u & v\\end{bmatrix}$ represented by `w` of dimension $(1, 2)$\n",
    "\n",
    "- **Parametric speed** : Symbol $\\frac{d\\omega}{dt} = \\begin{bmatrix}\\frac{du}{dt} & \\frac{dv}{dt}\\end{bmatrix}$, represented by `dw` of dimension $(1, 2)$\n",
    "\n",
    "- **Solid state** : Symbol $s = \\begin{bmatrix}u & \\frac{du}{dt} & v & \\frac{dv}{dt}\\end{bmatrix}$, represented by `s` of dimension $(1, 4)$\n",
    "\n",
    "## Physic quantities\n",
    "\n"
   ]
  }
 ],
 "metadata": {
  "kernelspec": {
   "display_name": "Python 3",
   "language": "python",
   "name": "python3"
  },
  "language_info": {
   "codemirror_mode": {
    "name": "ipython",
    "version": 3
   },
   "file_extension": ".py",
   "mimetype": "text/x-python",
   "name": "python",
   "nbconvert_exporter": "python",
   "pygments_lexer": "ipython3",
   "version": "3.8.7"
  }
 },
 "nbformat": 4,
 "nbformat_minor": 4
}
