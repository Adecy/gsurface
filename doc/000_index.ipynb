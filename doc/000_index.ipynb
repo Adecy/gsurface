{
 "cells": [
  {
   "cell_type": "markdown",
   "metadata": {},
   "source": [
    "\n",
    "# Introduction\n",
    "\n",
    "This package offer objects and tools in order to simulate solids, subjected to many forces, on parametric surfaces.\n",
    "\n",
    "\n",
    "- [Surface](020_surface.ipynb)\n",
    "- [Force](020_force.ipynb)\n",
    "\n",
    "![env.png](pics/env.png)\n",
    "\n",
    "# Sub-packages\n",
    "\n",
    "Main classes :\n",
    "* surface\n",
    "    * ...\n",
    "* forces\n",
    "    * ...\n",
    "* plotter\n",
    "    * ...\n",
    "* advanced\n",
    "    * app\n",
    "        * Application\n",
    "    * structure\n",
    "        * StructureGraph\n",
    "        * SurfaceGuidedStructureSystem\n",
    "        * TriangleStructure\n",
    "* serialize\n",
    "\n",
    "# Index\n",
    "\n",
    "* [Installation](010_install.ipynb)\n",
    "\n",
    "* Surface\n",
    "* Force\n",
    "* ODESystem and simulation\n",
    "* SurfaceGuidedModel\n",
    "* Examples\n",
    "\n",
    "* Surface library check\n",
    "\n",
    "* InteractedSurfaceGuidedModel\n",
    "\n",
    "* Structures\n",
    "* StructureSurfaceGuidedModel\n",
    "\n"
   ]
  }
 ],
 "metadata": {
  "kernelspec": {
   "display_name": "Python 3",
   "language": "python",
   "name": "python3"
  },
  "language_info": {
   "codemirror_mode": {
    "name": "ipython",
    "version": 3
   },
   "file_extension": ".py",
   "mimetype": "text/x-python",
   "name": "python",
   "nbconvert_exporter": "python",
   "pygments_lexer": "ipython3",
   "version": "3.8.7"
  }
 },
 "nbformat": 4,
 "nbformat_minor": 1
}
