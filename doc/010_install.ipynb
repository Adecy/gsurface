{
 "cells": [
  {
   "cell_type": "markdown",
   "metadata": {
    "collapsed": true,
    "pycharm": {
     "name": "#%% md\n"
    }
   },
   "source": [
    "# Installing *gsurface* wheel package\n",
    "\n",
    "\n",
    "## 1. Python\n",
    "\n",
    "You need to have Python 3.8 or later (python 3.9 not tested)\n",
    "\n",
    "## 2. Other packages\n",
    "\n",
    "Install required packages\n",
    "\n",
    "    pip install -r numpy, script, vtk, PyQt5, \n",
    "\n",
    "## 3. Mayavi\n",
    "\n",
    "### Numpy\n",
    "\n",
    "*Mayavi* requires *Numpy* (at build time), you may need to install *Numpy* first.\n",
    "\n",
    "### VTK Dependency\n",
    "\n",
    "**On Windows 10**\n",
    "\n",
    "Mayavi can be tricky to install, it requires VTK that requires *Build Tools For Visual Studio 2019* on Windows 10.\n",
    "\n",
    "In order to use `gsurface.plotter` features you need to install `vtk` and `mayavi` that require *Build Tools For Visual Studio* on Windows 10.\n",
    "\n",
    "Download and install *Build Tools For Visual Studio 2019* under \"Tools for \" Visual Studio\" from https://visualstudio.microsoft.com/fr/visual-cpp-build-tools/ :\n",
    "* Visual Studio Build Tools 2019\n",
    "* MSVC v142 - VS 2019 C++ x64/x86 Build Tools (v14.26)\n",
    "* SDK Windows 10 (10.0.17763.0)\n",
    "\n",
    "**Other Platforms**\n",
    "\n",
    "Check the following links in order to install the required tools for other platforms :\n",
    "- https://docs.enthought.com/mayavi/mayavi/installation.html\n",
    "\n",
    "\n",
    "## 4. Installing *gsurface* package\n",
    "\n",
    "    pip install gsurface-1.0.0.dev1-py38-none-any.whl\n",
    "\n",
    "# Issues\n",
    "\n",
    "## Linux\n",
    "\n",
    "Got error :\n",
    "\n",
    "```\n",
    "python ../gsurface/examples/library/reference/tore_trisolid.py \n",
    "qt.qpa.plugin: Could not load the Qt platform plugin \"xcb\" in \"\" even though it was found.\n",
    "This application failed to start because no Qt platform plugin could be initialized. Reinstalling the application may fix this problem.\n",
    "\n",
    "Available platform plugins are: eglfs, linuxfb, minimal, minimalegl, offscreen, vnc, wayland-egl, wayland, wayland-xcomposite-egl, wayland-xcomposite-glx, webgl, xcb.\n",
    "\n",
    "Aborted (core dumped)\n",
    "\n",
    "```\n",
    "\n",
    "Had to to the command :\n",
    "\n",
    "    sudo apt-get install --reinstall libxcb-xinerama0\n",
    "    \n",
    "After Mayavi scene opens and close immediately :\n",
    "- This can help : https://github.com/enthought/mayavi/issues/532\n",
    "- Using ipython --gui=qt  (after install pip install ipython)\n",
    " \n",
    "With command `ipython gui=qt` and then `%run tore_trisolid.py`one(1) windows opens without error but not the other.\n",
    "- See [run](https://ipython.readthedocs.io/en/stable/interactive/magics.html)\n",
    "\n",
    "\n",
    "    \n",
    "      "
   ]
  }
 ],
 "metadata": {
  "kernelspec": {
   "display_name": "Python 3",
   "language": "python",
   "name": "python3"
  },
  "language_info": {
   "codemirror_mode": {
    "name": "ipython",
    "version": 3
   },
   "file_extension": ".py",
   "mimetype": "text/x-python",
   "name": "python",
   "nbconvert_exporter": "python",
   "pygments_lexer": "ipython3",
   "version": "3.8.6"
  }
 },
 "nbformat": 4,
 "nbformat_minor": 1
}
