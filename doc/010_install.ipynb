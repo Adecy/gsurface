{
 "cells": [
  {
   "cell_type": "markdown",
   "metadata": {
    "collapsed": true,
    "pycharm": {
     "name": "#%% md\n"
    }
   },
   "source": [
    "# Installaling *gsurface*\n",
    "\n",
    "## Requirements\n",
    "\n",
    "You must use python 3.8.5 or newer\n",
    "\n",
    "## Installing *gsurface* package\n",
    "\n",
    "      git clone https://github.com/Adecy/gsurface.git\n",
    "\n",
    "# Installing *mayavi* package (optionnal)\n",
    "\n",
    "Follow this [mayavi installation guide](https://docs.enthought.com/mayavi/mayavi/installation.html)\n",
    "\n",
    "\n",
    "1. Downlonad and install [VTK](https://vtk.org/download/) with wheel\n",
    "\n",
    "\n",
    "      pip install vtk\n",
    "\n",
    "2. Download and install \"Build Tools For Visual Studio\" under \"Tools for \" Visual Studio\" from https://visualstudio.microsoft.com/fr/visual-cpp-build-tools/\n",
    "    * Visual Studio Build Tools 2019\n",
    "    * MSVC v142 - VS 2019 C++ x64/x86 Build Tools (v14.26)\n",
    "    * SDK Windows 10 (10.0.17763.0)\n",
    "    \n",
    "\n",
    "3. Install required packages\n",
    "\n",
    "\n",
    "      pip install PyQt5 numpy scipy sympy\n",
    "\n",
    "4. install mayavi\n",
    "\n",
    "\n",
    "      pip install mayavi\n",
    "\n"
   ]
  }
 ],
 "metadata": {
  "kernelspec": {
   "display_name": "Python 3",
   "language": "python",
   "name": "python3"
  },
  "language_info": {
   "codemirror_mode": {
    "name": "ipython",
    "version": 3
   },
   "file_extension": ".py",
   "mimetype": "text/x-python",
   "name": "python",
   "nbconvert_exporter": "python",
   "pygments_lexer": "ipython3",
   "version": "3.8.6"
  }
 },
 "nbformat": 4,
 "nbformat_minor": 1
}
