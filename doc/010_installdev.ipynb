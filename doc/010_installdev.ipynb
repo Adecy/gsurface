{
 "cells": [
  {
   "cell_type": "markdown",
   "metadata": {},
   "source": [
    "# Install gsurface from repo\n",
    "\n",
    "For developpers\n",
    "\n",
    "## 1. Clone repository\n",
    "\n",
    "    git clone https://github.com/Adecy/gsurface.git\n",
    "          \n",
    "## 2. Install requirements.txt\n",
    "\n",
    "Check following guide [010_install.ipynb](./010_install.ipynb) in order to install packages properly.\n",
    "\n",
    "    pip install -r dev/requirements.txt"
   ]
  }
 ],
 "metadata": {
  "kernelspec": {
   "display_name": "Python 3",
   "language": "python",
   "name": "python3"
  },
  "language_info": {
   "codemirror_mode": {
    "name": "ipython",
    "version": 3
   },
   "file_extension": ".py",
   "mimetype": "text/x-python",
   "name": "python",
   "nbconvert_exporter": "python",
   "pygments_lexer": "ipython3",
   "version": "3.8.6"
  }
 },
 "nbformat": 4,
 "nbformat_minor": 4
}
