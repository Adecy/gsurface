{
 "cells": [
  {
   "cell_type": "markdown",
   "metadata": {
    "collapsed": true
   },
   "source": [
    "# Force\n",
    "\n",
    "## Index\n",
    "\n",
    "- [Definition](#Definition)\n",
    "- [List of defined Forces](#List-of-defined-Surfaces)\n",
    "- [Example]()\n",
    "- [Evaluation](#Evaluation)\n",
    "- [Adding Forces]()\n",
    "- [Creating new Force](#Creating-new-surface)\n",
    "    - [Example : MyForce]\n",
    "- [Conservative Force]()\n",
    "- Interactions from forces"
   ]
  },
  {
   "cell_type": "markdown",
   "metadata": {},
   "source": [
    "## Definition\n",
    "\n",
    "In the Newton approach a *force* is a quantity that tends to accelerate an object, the variation of the momentum of a solid of mass $m$ equals the sum of all forces applying on the solid ([Newton second law of motion](https://en.wikipedia.org/wiki/Newton%27s_laws_of_motion)) :\n",
    "\n",
    "$$ \\frac{d}{dt} \\left(m \\mathbf{v} \\right) = \\mathbf{F}$$\n",
    "\n",
    "All forces can represented by the class `gsurface.force.force.Force`, moreover forces that are [convervative](https://en.wikipedia.org/wiki/Conservative_force) need to be defined using the `gsurface.force.force.ConservativeForce` class which implements the [potential](https://en.wikipedia.org/wiki/Scalar_potential) calculation.\n",
    "\n",
    "Forces that are not conservatives are [dissipative forces](https://en.wikipedia.org/wiki/Dissipation) represented by the base `.Force` class."
   ]
  },
  {
   "cell_type": "markdown",
   "metadata": {},
   "source": [
    "## List of defined Forces\n",
    "\n",
    "Following basic forces are already completly defined in the library (`gsurface.force` sub-package) :\n",
    "\n",
    "\n",
    "\n",
    "**Dissipative Forces** : [**Friction Forces**](https://en.wikipedia.org/wiki/Friction) : `.friction`\n",
    "- Solid friction `.SolidFriction` with parameter $intensity (N)$\n",
    "- [Viscous friction](https://en.wikipedia.org/wiki/Viscosity) \n",
    "    - Motion Directed Viscous Friction`.ViscousFriction` with parameter viscosity $\\mu (N.s.m^{-1})$\n",
    "    - Reference Directed Viscous Friction `.DirectedViscousFriction`\n",
    "        - Constant-Direction Directed Viscous Friction `.ConstantDirectedViscousFriction` with direction parameter $\\vec{D}$\n",
    "        - Center-Direction Directed Viscous Friction `.CenterDirectedViscousFriction` with center point parameter $\\vec{O}$\n",
    "- [High velocity Aerodynamic Friction - Drag Equation](https://en.wikipedia.org/wiki/Drag_(physics)) `.AirFriction` with parameters : \n",
    "    - volumic mass $\\rho (kg.m^{-3})$\n",
    "    - reference area $S (m^2)$\n",
    "    - [lift coefficient](https://en.wikipedia.org/wiki/Lift_coefficient) $C_x$.\n",
    "\n",
    "\n",
    "**Conservative Forces**\n",
    "- Gravity Forces `.gravity`\n",
    "    - [Constant Gravity](https://en.wikipedia.org/wiki/Gravity_of_Earth) `Gravity` with parameter mass $m (kg)$ and gravity acceleration $g (m.s^{-2})$\n",
    "    -[NewtonGravity](https://en.wikipedia.org/wiki/Newton%27s_law_of_universal_gravitation) `NewtonGravity` with parameters :\n",
    "        - masses $m (kg), M (kg)$\n",
    "        - [Gravitational Constant](https://en.wikipedia.org/wiki/Gravitational_constant) $\\mathcal{G}$\n",
    "        - center of the mass $M$ : $\\vec{O}$\n",
    "- Electromagnetic Forces `.em`\n",
    "    - [ElctromaMagneticField](https://en.wikipedia.org/wiki/Electromagnetic_field) Force `.StaticFieldElectroMagneticForce` with parameters [charge](https://fr.wikipedia.org/wiki/Charge_%C3%A9lectrique) $q (C)$, [electric field](https://en.wikipedia.org/wiki/Electric_field) $\\mathbf{E} (V.m^{-1})$ and magnetic field $\\mathbf{B} (T)$\n",
    "    - **todo** `.MagnetForce`\n",
    "- Spring Force `spring`\n",
    "    - [Spring](https://en.wikipedia.org/wiki/Hooke%27s_law) Force `.SpringForce` with parameter stiffness $k (N.m^{-1})$.\n",
    "    - Spring Lengthed Force  `.LengthedSpringForce` with parameters length at rest $l_0 (m)$ and stiffness $k (N.m^{-1})$.\n",
    "\n",
    "**Special types Forces (combination)** `.special`\n",
    "- Spring Damping Force `.SpringDampingForce`\n"
   ]
  },
  {
   "cell_type": "markdown",
   "metadata": {},
   "source": [
    "# Example\n",
    "\n",
    "We defined the following force as a sort of *force field* :\n",
    "\n",
    "$$\n",
    "\\mathbf{F} (u, v) = \\begin{bmatrix}\n",
    "1 \\\\\n",
    "2 \\\\\n",
    "3 \\\\\n",
    "\\end{bmatrix}\n",
    "$$"
   ]
  }
 ],
 "metadata": {
  "kernelspec": {
   "display_name": "Python 3",
   "language": "python",
   "name": "python3"
  },
  "language_info": {
   "codemirror_mode": {
    "name": "ipython",
    "version": 3
   },
   "file_extension": ".py",
   "mimetype": "text/x-python",
   "name": "python",
   "nbconvert_exporter": "python",
   "pygments_lexer": "ipython3",
   "version": "3.8.7"
  }
 },
 "nbformat": 4,
 "nbformat_minor": 1
}
