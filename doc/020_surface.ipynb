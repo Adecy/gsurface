{
 "cells": [
  {
   "cell_type": "markdown",
   "metadata": {},
   "source": [
    "# Surface\n",
    "\n",
    "## Index\n",
    "\n",
    "- [Definition](#Definition)\n",
    "- [List of defined Surfaces](#List-of-defined-Surfaces)\n",
    "- [Example : Plotting a Cylinder](#Example-:-Plotting-a-Cylinder)\n",
    "- [Creating new surface](#Creating-new-surface)\n",
    "    - [Example : MySurface](#Example-:-My-Surface)\n",
    "    - [Surface Integrity Check](#Surface-Consistancy-Check)\n",
    "    - Partially defined Surface\n",
    "- [Evaluation](#Evaluation)\n",
    "- [Transformations](#Transformations)\n",
    "    - Translation\n",
    "    - Rotation\n",
    "    - Translation and Rotation\n",
    "- Surface area calculation\n",
    "- Poles\n",
    "    - Example of the Sphere\n",
    "- Numerical Surface\n",
    "- Comments about precision"
   ]
  },
  {
   "cell_type": "markdown",
   "metadata": {
    "pycharm": {
     "name": "#%% md\n"
    }
   },
   "source": [
    "## Definition\n",
    "\n",
    "A *surface* represented by the class `gsurface.surface.surface.Surface`, is defined using 2 parameters designated by $u$ and $v$. See complete definition on [Wikipedia](https://en.wikipedia.org/wiki/Surface_(mathematics)).\n",
    "\n",
    "$$\n",
    "\\begin{align*}\n",
    "\\mathbf{S} : \\mathbb{R}^2 &\\to\\mathbb{R}^3 \\\\\n",
    "u, v &\\mapsto \\mathbf{S}(u, v)\n",
    "\\end{align*}\n",
    "$$"
   ]
  },
  {
   "cell_type": "markdown",
   "metadata": {},
   "source": [
    "## List of defined Surfaces\n",
    "\n",
    "Following basic surfaces are already completly defined in the library (`gsurface.surface` sub-package):\n",
    "\n",
    "* Plan : `.plan.Plan` with parameters $a$, $b$, $c$, $d$ from plan definition equation $ax + by + cz = d$\n",
    "* Cylinder : `.cylinder.Cylinder` with parameter $R$\n",
    "* Sphere : `.sphere.Sphere` with parameter $R$\n",
    "* Tore : `.tore.Tore` with parameters $r$ and $R$\n",
    "\n",
    "\n",
    "* Paraboloids with parameters $a$ and $b$\n",
    "    * EllipticParaboloid : `.paraboloid.EllipticParaboloid`\n",
    "    * HyperbolicParaboloid: `.paraboloid.HyperbolicParaboloid`\n",
    "    \n",
    "\n",
    "* Catenoid : `.catenoid.Catenoid` with parameter $a$\n",
    "* ConicalCorner : `.conicalcorner.ConicalCorner` with parameters $k$ and $a$\n",
    "\n",
    "* EggBox : `.eggbox.Eggbox` with parameters $R$, $a$ and $b$"
   ]
  },
  {
   "cell_type": "markdown",
   "metadata": {},
   "source": [
    "## Example : Plotting a Cylinder\n",
    "\n",
    "A cylinder of radius $r$ can be defined as follow :\n",
    "\n",
    "$$\n",
    "\\mathbf{Cyl}(u, v) = \\begin{cases}\n",
    "R cos(u) \\\\\n",
    "R sin(u) \\\\\n",
    "v\n",
    "\\end{cases}\n",
    "$$\n",
    "\n",
    "The `gsurface.surface.cylinder.Cylinder` class implements this surface. We can plot this surface using *mlab* and *mayavi_plot_surface* function."
   ]
  },
  {
   "cell_type": "code",
   "execution_count": 1,
   "metadata": {},
   "outputs": [],
   "source": [
    "from gsurface.surface import Cylinder\n",
    "from gsurface.plotter import mayavi_plot_surface\n",
    "\n",
    "cyl = Cylinder(R = 1.0)  # creating object\n",
    "\n",
    "cyl.setlims(v_ll = 0, v_ul = 10)  # updating v bounds to [0, 10]\n",
    "\n",
    "mesh = cyl.mesh(50, 50)  # creating u,v-mesh\n",
    "\n",
    "smesh = cyl.build_surface(*mesh)  # generating surface points for this u,v-mesh\n",
    "\n",
    "mayavi_plot_surface(smesh)  # plotting"
   ]
  },
  {
   "cell_type": "markdown",
   "metadata": {},
   "source": [
    "**Symbols** :\n",
    "\n",
    "- `cyl` is a *Surface:Cylinder object*\n",
    "- `mesh` is as *2-dim np.ndarray* (50x50)\n",
    "- `smesh` is as *3-dim np.ndarray* (50x50x3)"
   ]
  },
  {
   "cell_type": "markdown",
   "metadata": {},
   "source": [
    "![mayavi_cylinder_ui.png](./pics/mayavi_cylinder_ui.png)"
   ]
  },
  {
   "cell_type": "markdown",
   "metadata": {},
   "source": [
    "## Creating new surface\n",
    "\n",
    "The `gsurface.surface` sub-package allows you to simply define your own parametric surfaces."
   ]
  },
  {
   "cell_type": "code",
   "execution_count": 7,
   "metadata": {},
   "outputs": [],
   "source": [
    "import numpy as np\n",
    "\n",
    "from gsurface.surface import Surface, SJH"
   ]
  },
  {
   "cell_type": "markdown",
   "metadata": {},
   "source": [
    "### Example : My Surface\n",
    "\n",
    "For example Here we want to define the following parametric surface :\n",
    "\n",
    "$$S (u, v)=\\left[\\begin{matrix}u - \\cos{\\left(v \\right)}\\\\v \\sin{\\left(u \\right)} + v\\\\u \\sin{\\left(u - v \\right)} - v\\end{matrix}\\right]$$\n",
    "\n",
    "In order to build our surface class, we need to find the Jacobian and the Hessians matrices :\n",
    "\n",
    "$$J = \\begin{bmatrix}\n",
    "\\frac{\\partial S_x}{\\partial u} & \\frac{\\partial S_x}{\\partial v} \\\\\n",
    "\\frac{\\partial S_y}{\\partial u} & \\frac{\\partial S_y}{\\partial v} \\\\\n",
    "\\frac{\\partial S_z}{\\partial u} & \\frac{\\partial S_z}{\\partial v} \\\\\n",
    "\\end{bmatrix} =\n",
    "\\begin{bmatrix}\n",
    "1 & \\sin(v) \\\\\n",
    "v \\cos(u) & \\sin(u) + 1 \\\\\n",
    "u \\cos(u - v) + \\sin(u - v) & u \\cos(u - v) - 1\n",
    "\\end{bmatrix}\n",
    "$$\n",
    "\n",
    "$$H_x = \\begin{bmatrix}\n",
    "\\frac{\\partial^2 S_x}{\\partial^2 u} & \\frac{\\partial^2 S_x}{\\partial u \\partial v} \\\\\n",
    "\\frac{\\partial^2 S_x}{\\partial u \\partial v} & \\frac{\\partial^2 S_x}{\\partial^2 v}\n",
    "\\end{bmatrix} =\n",
    "\\begin{bmatrix}\n",
    "0 & 0 \\\\\n",
    "0 & \\cos(v)\n",
    "\\end{bmatrix}$$\n",
    "\n",
    "$$H_y = \\begin{bmatrix}\n",
    "\\frac{\\partial^2 S_y}{\\partial^2 u} & \\frac{\\partial^2 S_y}{\\partial u \\partial v} \\\\\n",
    "\\frac{\\partial^2 S_y}{\\partial u \\partial v} & \\frac{\\partial^2 S_y}{\\partial^2 v}\n",
    "\\end{bmatrix} =\n",
    "\\begin{bmatrix}\n",
    "v \\sin(u) & \\cos(u) \\\\\n",
    "\\cos(u) & 0\n",
    "\\end{bmatrix}$$\n",
    "\n",
    "$$H_z = \\begin{bmatrix}\n",
    "\\frac{\\partial^2 S_z}{\\partial^2 u} & \\frac{\\partial^2 S_z}{\\partial u \\partial v} \\\\\n",
    "\\frac{\\partial^2 S_z}{\\partial u \\partial v} & \\frac{\\partial^2 S_z}{\\partial^2 v}\n",
    "\\end{bmatrix} =\n",
    "\\begin{bmatrix}\n",
    "- u \\sin(u - v) + 2 \\cos(u - v) & u \\sin(u - v) - \\cos(u - v) \\\\\n",
    "u \\sin(u - v) - \\cos(u - v) & - u \\sin(u - v)\n",
    "\\end{bmatrix}$$\n",
    "\n",
    "Finally we can choose parameters limits, for example :\n",
    "$u, v \\in [-2, 2]^2$"
   ]
  },
  {
   "cell_type": "code",
   "execution_count": 22,
   "metadata": {},
   "outputs": [],
   "source": [
    "class MySurface(Surface):\n",
    "    def __init__(self):\n",
    "        # initializing base surface and setting limits\n",
    "        super().__init__(\n",
    "            plimits=np.array([\n",
    "                [-2.0, 2.0],\n",
    "                [-2.0, 2.0]\n",
    "            ])\n",
    "        )\n",
    "\n",
    "    # this function must return a tuple of S, J, and Hxyz matrices\n",
    "    # by using the buildMetric function we can simplify the definition\n",
    "    # not filled values are set to 0.0\n",
    "    def _definition(self, u: float, v: float) -> SJH:        \n",
    "        return self.buildMetric(\n",
    "            # S\n",
    "            x=u - np.cos(v),\n",
    "            y=v*np.sin(u) + v,\n",
    "            z=np.sin(u - v)*u - v,\n",
    "            \n",
    "            # J\n",
    "            dux=1,\n",
    "            duy=v*np.cos(u),\n",
    "            duz=u*np.cos(u - v) + np.sin(u - v),\n",
    "\n",
    "            dvx=np.sin(v),\n",
    "            dvy=np.sin(u) + 1,\n",
    "            dvz=-u*np.cos(u - v) - 1,\n",
    "\n",
    "            # Hx\n",
    "            dvvx = np.cos(v),\n",
    "\n",
    "            # Hy\n",
    "            duuy=-v*np.sin(u),\n",
    "            duvy=np.cos(u),\n",
    "\n",
    "            # Hz\n",
    "            duuz=-u*np.sin(u - v) + 2*np.cos(u - v),\n",
    "            duvz=u*np.sin(u - v) - np.cos(u - v),\n",
    "            dvvz=-u*np.sin(u - v),\n",
    "        )\n",
    "        "
   ]
  },
  {
   "cell_type": "markdown",
   "metadata": {},
   "source": [
    "### Surface Consistancy Check\n",
    "\n",
    "The `gsurface.surface.diff` file offer a tool in order to check that your newly defined surface is consistant, in the sense that the Jacobian and Hessians matrices are well calculated.\n",
    "\n",
    "The `gsurface.surface.surface.Surface` `check` and `check_verbose` methods check that each first order and seconds order derivates are well calulated in the surface model. These methods are based on the `gsurface.surface.diff.get_diff_surface_errors` function.\n",
    "\n",
    "The `gsurface.surface.diff.get_diff_surface_errors` function need a mesh of $u, v \\in M_u \\otimes M_v$ parameters where to evaluate each derivatives. ($M_v$ and $M_v$ are finite sets of real numbers). On each position defined by the mesh, for each differentiated values the function compare the defined derivative to the numerical approximation of the derivative.\n",
    "\n",
    "If one of the *error* ($\\varepsilon$) calculated is greater than the *tolerance value* (by default $10^{-7}$), the `check` methods return false.\n",
    "\n",
    "\n",
    "#### Example\n",
    "\n",
    "Here we check our previously well-defined `MySurface` surface, but if make a willful mistake on the derivative of a value in the previous definition and we perfom the test again we get an error."
   ]
  },
  {
   "cell_type": "code",
   "execution_count": 23,
   "metadata": {
    "scrolled": true
   },
   "outputs": [
    {
     "name": "stdout",
     "output_type": "stream",
     "text": [
      "=== Checking surface definition ===\n",
      "U 20 points from -2.0 to 2.0\n",
      "V 20 points from -2.0 to 2.0\n",
      "Tolerance : 1.0E-07\n",
      "index[0 : xi] max err = 4.2E-08 [True]\n",
      "index[1 : yi] max err = 5.2E-08 [True]\n",
      "index[2 : zi] max err = 6.5E-08 [True]\n",
      "index[3 : duxi] max err = 0.0E+00 [True]\n",
      "index[4 : dvxi] max err = 1.1E-08 [True]\n",
      "index[5 : duyi] max err = 2.8E-08 [True]\n",
      "index[6 : dvyi] max err = 1.4E-08 [True]\n",
      "index[7 : duzi] max err = 5.3E-08 [True]\n",
      "index[8 : dvzi] max err = 6.9E-08 [True]\n",
      "Surface model valid ? True\n"
     ]
    }
   ],
   "source": [
    "surface = MySurface()\n",
    "\n",
    "result = surface.check_verbose(20, 20)\n",
    "\n",
    "print(f\"Surface model valid ? {result}\")"
   ]
  },
  {
   "cell_type": "code",
   "execution_count": 28,
   "metadata": {},
   "outputs": [
    {
     "name": "stdout",
     "output_type": "stream",
     "text": [
      "=== Checking surface definition ===\n",
      "U 20 points from -2.0 to 2.0\n",
      "V 20 points from -2.0 to 2.0\n",
      "Tolerance : 1.0E-07\n",
      "index[0 : xi] max err = 4.2E-08 [True]\n",
      "index[1 : yi] max err = 4.0E+00 [False]\n",
      "index[2 : zi] max err = 6.5E-08 [True]\n",
      "index[3 : duxi] max err = 0.0E+00 [True]\n",
      "index[4 : dvxi] max err = 1.1E-08 [True]\n",
      "index[5 : duyi] max err = 2.8E-08 [True]\n",
      "index[6 : dvyi] max err = 2.0E+00 [False]\n",
      "index[7 : duzi] max err = 5.3E-08 [True]\n",
      "index[8 : dvzi] max err = 6.9E-08 [True]\n",
      "Surface model valid ? False\n"
     ]
    }
   ],
   "source": [
    "class BadSurface(MySurface):\n",
    "    def _definition(self, u: float, v: float) -> SJH:\n",
    "        S, J, H = super()._definition(u, v)\n",
    "        \n",
    "        # we introduce a sign error on DSy/Dv\n",
    "        J[1, 1] = -J[1, 1]\n",
    "        \n",
    "        return S, J, H\n",
    "    \n",
    "# we perform the consistancy check again\n",
    "bad_surface = BadSurface()\n",
    "\n",
    "result = bad_surface.check_verbose(20, 20)\n",
    "\n",
    "print(f\"Surface model valid ? {result}\")  # check fails"
   ]
  },
  {
   "cell_type": "markdown",
   "metadata": {},
   "source": [
    "#### Comments\n",
    "- Importance of scale in definitions, change tolerance consequently.\n",
    "- [Schwartz theorem](https://en.wikipedia.org/wiki/Symmetry_of_second_derivatives) says that $\\frac{\\partial^2 f}{\\partial u \\partial v} = \\frac{\\partial^2 f}{\\partial v \\partial u}$. We will always talk about `duvx` for $\\frac{\\partial^2 S_x}{\\partial u \\partial v} = \\frac{\\partial^2 S_x}{\\partial v \\partial u}$, same for `duvy` and `duvz`."
   ]
  },
  {
   "cell_type": "markdown",
   "metadata": {},
   "source": [
    "## Evaluation\n",
    "\n",
    "The point associated to the parametric position $(u, v)$ is $\\mathbf{S}(u, v)$.\n",
    "\n",
    "For the previous cylinder the point associated to the parametric position $\\left(\\frac{pi}{2}, 1\\right)$ is $\\mathbf{Cyl}\\left(\\frac{pi}{2}, 1\\right) = \\begin{bmatrix} 0 \\\\ R \\\\ 1 \\end{bmatrix}$"
   ]
  },
  {
   "cell_type": "code",
   "execution_count": 4,
   "metadata": {},
   "outputs": [
    {
     "name": "stdout",
     "output_type": "stream",
     "text": [
      "[6.123234e-17 1.000000e+00 1.000000e+00]\n"
     ]
    }
   ],
   "source": [
    "import numpy as np\n",
    "\n",
    "S, J, H = cyl.eval(np.pi / 2, 1)\n",
    "\n",
    "print(S)"
   ]
  },
  {
   "cell_type": "markdown",
   "metadata": {},
   "source": [
    "the `eval` function return 3 values $\\mathbf{S}$ the position of the point on the surface (dimension $3$), $\\mathbf{J}$ the [Jacobian](https://en.wikipedia.org/wiki/Jacobian_matrix_and_determinant) of $S$ (dimension $3\\times2$) and [Hessian](https://en.wikipedia.org/wiki/Hessian_matrix) of $S_x$, $S_y$ and $S_z$ : $\\mathbf{H} = \\begin{bmatrix} \\mathbf{H_x} & \\mathbf{H_y} & \\mathbf{H_z} \\end{bmatrix}$ (dimension $(2\\times2)$ each), all evaluated on the parametric position $(u, v)$.\n",
    "\n",
    "These 3 values are gathered in the tuple `gsurface.types.SJH` of the library."
   ]
  },
  {
   "cell_type": "markdown",
   "metadata": {},
   "source": [
    "## Transformations\n",
    "\n",
    "### Translation\n",
    "\n",
    "### Rotation\n",
    "\n",
    "### Rotation and Translation"
   ]
  },
  {
   "cell_type": "markdown",
   "metadata": {},
   "source": [
    "Check surface consistancy"
   ]
  },
  {
   "cell_type": "markdown",
   "metadata": {},
   "source": [
    "Create model"
   ]
  },
  {
   "cell_type": "code",
   "execution_count": 4,
   "metadata": {},
   "outputs": [],
   "source": [
    "from gsurface import SurfaceGuidedMassSystem, Tyi, build_s0\n",
    "from gsurface.forces import ViscousFriction, SpringForce\n",
    "\n",
    "model = SurfaceGuidedMassSystem(\n",
    "    surface=surface,\n",
    "    s0=build_s0(u0=2.5, du0=-8.0, dv0=5.0),\n",
    "    m=1.0,\n",
    "    forces=[\n",
    "        SpringForce(10.0),\n",
    "        ViscousFriction(1.0)\n",
    "    ]\n",
    ")"
   ]
  },
  {
   "cell_type": "code",
   "execution_count": 5,
   "metadata": {},
   "outputs": [],
   "source": [
    "from gsurface.plotter import mayavi_plot_surfaces, SurfacePlot\n",
    "\n",
    "surface  = NewSurface().multlims(1.5)\n",
    "\n",
    "surface_mesh = surface.build_surface(*surface.mesh(50, 50))\n",
    "\n",
    "time = np.linspace(0, 10, 1000)\n",
    "\n",
    "data = model.solve(time)\n",
    "\n",
    "solutions = model.solutions(data, time)\n",
    "\n",
    "# animate does not work with jupyter notebooks\n",
    "mayavi_plot_surfaces([\n",
    "    SurfacePlot(surface_mesh, trajectory=solutions[Tyi], animate=False)\n",
    "])"
   ]
  },
  {
   "cell_type": "markdown",
   "metadata": {
    "pycharm": {
     "name": "#%% md\n"
    }
   },
   "source": [
    "![New Surface Trajectory](../render/NewSurfaceTraj.png)"
   ]
  }
 ],
 "metadata": {
  "kernelspec": {
   "display_name": "gsurface venv",
   "language": "python",
   "name": "venv"
  },
  "language_info": {
   "codemirror_mode": {
    "name": "ipython",
    "version": 3
   },
   "file_extension": ".py",
   "mimetype": "text/x-python",
   "name": "python",
   "nbconvert_exporter": "python",
   "pygments_lexer": "ipython3",
   "version": "3.8.6"
  }
 },
 "nbformat": 4,
 "nbformat_minor": 4
}
