{
 "cells": [
  {
   "cell_type": "code",
   "execution_count": 14,
   "metadata": {},
   "outputs": [],
   "source": [
    "import numpy as np\n",
    "\n",
    "from gsurface.surface import Surface, SJH"
   ]
  },
  {
   "cell_type": "markdown",
   "metadata": {},
   "source": [
    "# Surface definition\n",
    "\n",
    "The goal of this notebook is to show the different way to define a new $Surface$ object.\n",
    "\n",
    "The goal is to define the following the following surface defined with parametric equations :\n",
    "\n",
    "$$S (u, v)=\n",
    "\\left[\\begin{matrix}u - \\cos{\\left(v \\right)}\\\\v \\sin{\\left(u \\right)} + v\\\\u \\sin{\\left(u - v \\right)} - v\\end{matrix}\\right]$$"
   ]
  },
  {
   "cell_type": "code",
   "execution_count": 15,
   "metadata": {},
   "outputs": [],
   "source": [
    "class NewSurface(Surface):\n",
    "    plimits = np.array([\n",
    "        [-2.0, 2.0],\n",
    "        [-2.0, 2.0]\n",
    "    ])\n",
    "    def _definition(self, u: float, v: float) -> SJH:        \n",
    "        return self.buildMetric(\n",
    "            x=u - np.cos(v),\n",
    "            y=v*np.sin(u) + v,\n",
    "            z=np.sin(u - v)*u - v,\n",
    "\n",
    "            dux=1,\n",
    "            duy=v*np.cos(u),\n",
    "            duz=u*np.cos(u - v) + np.sin(u - v),\n",
    "\n",
    "            dvx=np.sin(v),\n",
    "            dvy=np.sin(u) + 1,\n",
    "            dvz=-u*np.cos(u - v) - 1,\n",
    "\n",
    "            dvvx = np.cos(v),\n",
    "\n",
    "            duuy=-v*np.sin(u),\n",
    "            duvy=np.cos(u),\n",
    "\n",
    "            duuz=-u*np.sin(u - v) + 2*np.cos(u - v),\n",
    "            duvz=u*np.sin(u - v) - np.cos(u - v),\n",
    "            dvvz=-u*np.sin(u - v),\n",
    "        )\n",
    "        "
   ]
  },
  {
   "cell_type": "markdown",
   "metadata": {},
   "source": [
    "Check surface consistancy"
   ]
  },
  {
   "cell_type": "code",
   "execution_count": 16,
   "metadata": {},
   "outputs": [
    {
     "name": "stdout",
     "output_type": "stream",
     "text": [
      "=== Checking surface definition ===\n",
      "U 20 points from -2.0 to 2.0\n",
      "V 20 points from -2.0 to 2.0\n",
      "Tolerance : 1.0E-07\n",
      "index[0 : xi] max err = 4.2E-08 [True]\n",
      "index[1 : yi] max err = 5.2E-08 [True]\n",
      "index[2 : zi] max err = 6.5E-08 [True]\n",
      "index[3 : duxi] max err = 0.0E+00 [True]\n",
      "index[4 : dvxi] max err = 1.1E-08 [True]\n",
      "index[5 : duyi] max err = 2.8E-08 [True]\n",
      "index[6 : dvyi] max err = 1.4E-08 [True]\n",
      "index[7 : duzi] max err = 5.3E-08 [True]\n",
      "index[8 : dvzi] max err = 6.9E-08 [True]\n"
     ]
    },
    {
     "data": {
      "text/plain": [
       "True"
      ]
     },
     "execution_count": 16,
     "metadata": {},
     "output_type": "execute_result"
    }
   ],
   "source": [
    "surface = NewSurface()\n",
    "\n",
    "surface.check_verbose(20, 20)"
   ]
  },
  {
   "cell_type": "markdown",
   "metadata": {},
   "source": [
    "Create model"
   ]
  },
  {
   "cell_type": "code",
   "execution_count": 17,
   "metadata": {},
   "outputs": [],
   "source": [
    "from gsurface import SurfaceGuidedMassSystem, Tyi, build_s0\n",
    "from gsurface.forces import ViscousFriction, SpringForce\n",
    "\n",
    "model = SurfaceGuidedMassSystem(\n",
    "    surface=surface,\n",
    "    s0=build_s0(u0=2.5, du0=-8.0, dv0=5.0),\n",
    "    m=1.0,\n",
    "    forces=[\n",
    "        SpringForce(10.0),\n",
    "        ViscousFriction(1.0)\n",
    "    ]\n",
    ")"
   ]
  },
  {
   "cell_type": "code",
   "execution_count": 18,
   "metadata": {},
   "outputs": [],
   "source": [
    "from gsurface.plotter import mayavi_plot_surfaces, SurfacePlot\n",
    "\n",
    "surface  = NewSurface().multlims(1.5)\n",
    "\n",
    "surface_mesh = surface.build_surface(*surface.mesh(50, 50))\n",
    "\n",
    "time = np.linspace(0, 10, 1000)\n",
    "\n",
    "data = model.solve(time)\n",
    "\n",
    "solutions = model.solutions(data, time)\n",
    "\n",
    "# animate does not work with jupyter notebooks\n",
    "mayavi_plot_surfaces([\n",
    "    SurfacePlot(surface_mesh, trajectory=solutions[Tyi], animate=False)\n",
    "])"
   ]
  },
  {
   "cell_type": "markdown",
   "metadata": {},
   "source": [
    "![New Surface Trajectory](../render/NewSurfaceTraj.png)"
   ]
  }
 ],
 "metadata": {
  "kernelspec": {
   "display_name": "Python 3",
   "language": "python",
   "name": "python3"
  },
  "language_info": {
   "codemirror_mode": {
    "name": "ipython",
    "version": 3
   },
   "file_extension": ".py",
   "mimetype": "text/x-python",
   "name": "python",
   "nbconvert_exporter": "python",
   "pygments_lexer": "ipython3",
   "version": "3.8.5"
  }
 },
 "nbformat": 4,
 "nbformat_minor": 4
}
