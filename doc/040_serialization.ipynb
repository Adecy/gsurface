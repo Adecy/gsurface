{
 "cells": [
  {
   "cell_type": "markdown",
   "id": "nutritional-press",
   "metadata": {},
   "source": [
    "# Serialization"
   ]
  },
  {
   "cell_type": "code",
   "execution_count": 10,
   "id": "representative-dover",
   "metadata": {},
   "outputs": [
    {
     "name": "stdout",
     "output_type": "stream",
     "text": [
      "Gravity : g = [ 1. -2.  2.] m s^-2\n",
      "{\n",
      "    \"_gsurface_cls\": \"gsurface.forces.gravity.Gravity\",\n",
      "    \"m\": 1.0,\n",
      "    \"g\": [\n",
      "        1.0,\n",
      "        -2.0,\n",
      "        2.0\n",
      "    ]\n",
      "}\n",
      "Gravity : g = [ 1. -2.  2.] m s^-2\n"
     ]
    }
   ],
   "source": [
    "from gsurface.forces import Gravity\n",
    "\n",
    "from gsurface.serialize import dumps, loads\n",
    "\n",
    "g = Gravity(1.0, [1.0, -2.0, 2.0])\n",
    "\n",
    "s = dumps(g, indent = 4)\n",
    "\n",
    "print(g)\n",
    "print(s)\n",
    "\n",
    "o = loads(s)\n",
    "\n",
    "print(o)"
   ]
  }
 ],
 "metadata": {
  "kernelspec": {
   "display_name": "Python 3",
   "language": "python",
   "name": "python3"
  },
  "language_info": {
   "codemirror_mode": {
    "name": "ipython",
    "version": 3
   },
   "file_extension": ".py",
   "mimetype": "text/x-python",
   "name": "python",
   "nbconvert_exporter": "python",
   "pygments_lexer": "ipython3",
   "version": "3.8.7"
  }
 },
 "nbformat": 4,
 "nbformat_minor": 5
}
