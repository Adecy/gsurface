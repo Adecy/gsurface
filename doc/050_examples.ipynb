{
 "cells": [
  {
   "cell_type": "markdown",
   "metadata": {},
   "source": [
    " # Examples\n",
    " \n",
    "**Nomenclature** :\n",
    "\n",
    "- *_* : old / tmp\n",
    "- *0* : Developpement example\n",
    "\n",
    "Example about : \n",
    "\n",
    "- *M* : `SurfaceGuidedMassSystem`\n",
    "- *iM* : `SurfaceGuidedInteractedMassSystems`\n",
    "- *sM* : `SurfaceGuidedStructureSystem`\n",
    "\n",
    "- *P* : Plotting\n",
    "- *L* : Solving\n",
    "- *Z* : Serialization\n",
    "- *A* : Analysis\n",
    "\n",
    "- *S* : `Surface`\n",
    "- *F* : `Force`\n",
    "- *I* : `Interaction`\n"
   ]
  }
 ],
 "metadata": {
  "kernelspec": {
   "display_name": "Python 3",
   "language": "python",
   "name": "python3"
  },
  "language_info": {
   "codemirror_mode": {
    "name": "ipython",
    "version": 3
   },
   "file_extension": ".py",
   "mimetype": "text/x-python",
   "name": "python",
   "nbconvert_exporter": "python",
   "pygments_lexer": "ipython3",
   "version": "3.8.7"
  }
 },
 "nbformat": 4,
 "nbformat_minor": 4
}
