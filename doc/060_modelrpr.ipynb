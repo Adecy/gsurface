{
 "cells": [
  {
   "cell_type": "markdown",
   "metadata": {
    "collapsed": true
   },
   "source": [
    "# Model complexity representation\n",
    "\n",
    "Represent the calculation complexity of the model.\n",
    "\n",
    "**Model** :\n",
    "\n",
    "- Model / InteractedModel\n",
    "\n",
    "**Force**\n",
    "\n",
    "- Force / Interaction Count\n",
    "\n",
    "**Epochs**\n",
    "\n",
    "- Number of states calculated\n",
    "\n",
    "**Example**\n",
    "\n",
    "Repr `iM10-F12I23-T1000` :\n",
    "- InteractedModels with $10$ models\n",
    "- $12$ forces and $23$ interactions\n",
    "- $1000$ states\n",
    "\n",
    "**Complexity**\n",
    "\n",
    "`iM10-F12I23-T1000` :\n",
    "- complexity states calculation = $4*M10*T1000*F12*I11$"
   ]
  }
 ],
 "metadata": {
  "kernelspec": {
   "display_name": "Python 3",
   "language": "python",
   "name": "python3"
  },
  "language_info": {
   "codemirror_mode": {
    "name": "ipython",
    "version": 3
   },
   "file_extension": ".py",
   "mimetype": "text/x-python",
   "name": "python",
   "nbconvert_exporter": "python",
   "pygments_lexer": "ipython3",
   "version": "3.8.7"
  }
 },
 "nbformat": 4,
 "nbformat_minor": 1
}
