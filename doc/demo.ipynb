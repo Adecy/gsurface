{
 "cells": [
  {
   "cell_type": "code",
   "execution_count": 11,
   "metadata": {},
   "outputs": [],
   "source": [
    "import numpy as np\n",
    "\n",
    "from ode import solver"
   ]
  },
  {
   "cell_type": "markdown",
   "metadata": {
    "collapsed": true
   },
   "source": [
    "# Introduction à la bibliothèque $gsurface$\n",
    "\n",
    "Dans ce document on effectue une introduction à la bibliothèque de simulation d'objet guidé par une surface *gsurface*."
   ]
  },
  {
   "cell_type": "code",
   "execution_count": 12,
   "metadata": {},
   "outputs": [
    {
     "name": "stdout",
     "output_type": "stream",
     "text": [
      "Surface:Tore(r=0.50, R=2.00)  \n"
     ]
    }
   ],
   "source": [
    "from gsurface.surface import Tore\n",
    "\n",
    "tore = Tore(r=0.5, R=2.0)\n",
    "\n",
    "print(tore)"
   ]
  },
  {
   "cell_type": "code",
   "execution_count": 13,
   "metadata": {},
   "outputs": [
    {
     "name": "stdout",
     "output_type": "stream",
     "text": [
      "SurfaceGuidedMassSystem for solid of mass=1.0kg on surface Surface:Tore(r=0.50, R=2.00)   with s0 = [ 0.  1.  0. 10.]\n",
      "and forces : ForceSum[Gravity [0. 0. 9.] m/s², ViscousFriction mu = 0.5]\n"
     ]
    }
   ],
   "source": [
    "from gsurface.model import SurfaceGuidedMassSystem, build_s0\n",
    "from gsurface.forces import Gravity, ViscousFriction\n",
    "\n",
    "sim = SurfaceGuidedMassSystem(\n",
    "    surface=tore,\n",
    "    s0=build_s0(u0=0.0, du0=1.0, v0=0.0, dv0=10.0),\n",
    "    m=1.0,\n",
    "    forces=[\n",
    "        Gravity(1.0, np.array([0.0, 0.0, +9.0])),\n",
    "        ViscousFriction(0.5)\n",
    "    ]\n",
    ")\n",
    "\n",
    "print(sim)"
   ]
  },
  {
   "cell_type": "code",
   "execution_count": 14,
   "metadata": {
    "pycharm": {
     "is_executing": true
    }
   },
   "outputs": [],
   "source": [
    "time = np.linspace(0.0, 10.0, 1000)\n",
    "\n",
    "data = sim.solve(time, solver=solver.rk4)\n",
    "solutions = sim.solutions(data, time)"
   ]
  },
  {
   "cell_type": "code",
   "execution_count": 15,
   "metadata": {
    "pycharm": {
     "is_executing": true
    }
   },
   "outputs": [],
   "source": [
    "from gsurface.plotter.mayavi import mlab, mayavi_plot_surfaces, SurfacePlot\n",
    "from gsurface import Tyi\n",
    "\n",
    "mesh = tore.buildsurface(*tore.mesh(50, 50))\n",
    "\n",
    "mayavi_plot_surfaces([\n",
    "    SurfacePlot(mesh, trajectory=solutions[Tyi]),\n",
    "])\n",
    "mlab.show()"
   ]
  }
 ],
 "metadata": {
  "kernelspec": {
   "display_name": "Python 3",
   "language": "python",
   "name": "python3"
  },
  "language_info": {
   "codemirror_mode": {
    "name": "ipython",
    "version": 3
   },
   "file_extension": ".py",
   "mimetype": "text/x-python",
   "name": "python",
   "nbconvert_exporter": "python",
   "pygments_lexer": "ipython3",
   "version": "3.8.5"
  }
 },
 "nbformat": 4,
 "nbformat_minor": 1
}
