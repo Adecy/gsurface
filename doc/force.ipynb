{
 "cells": [
  {
   "cell_type": "code",
   "execution_count": 1,
   "metadata": {},
   "outputs": [],
   "source": [
    "import numpy as np"
   ]
  },
  {
   "cell_type": "markdown",
   "metadata": {},
   "source": [
    "# Creating Force"
   ]
  },
  {
   "cell_type": "code",
   "execution_count": 2,
   "metadata": {},
   "outputs": [],
   "source": [
    "from gsurface.forces import Force\n",
    "\n",
    "\n",
    "class MyForce(Force):\n",
    "    def __init__(self, a = 1.0):\n",
    "        self.a = 1.0\n",
    "    \n",
    "    def eval(self, w, dw, t, S, J):\n",
    "        v = J @ dw.T\n",
    "\n",
    "        return - self.a * np.cos(t) * v \n",
    "    \n",
    "    __repr_str__ = \"a = {a:.2f}\""
   ]
  },
  {
   "cell_type": "code",
   "execution_count": 3,
   "metadata": {},
   "outputs": [
    {
     "name": "stdout",
     "output_type": "stream",
     "text": [
      "MyForce : a = 1.00\n"
     ]
    }
   ],
   "source": [
    "force = MyForce()\n",
    "\n",
    "print(force)"
   ]
  },
  {
   "cell_type": "code",
   "execution_count": 3,
   "metadata": {},
   "outputs": [],
   "source": []
  }
 ],
 "metadata": {
  "kernelspec": {
   "display_name": "Python 3",
   "language": "python",
   "name": "python3"
  },
  "language_info": {
   "codemirror_mode": {
    "name": "ipython",
    "version": 3
   },
   "file_extension": ".py",
   "mimetype": "text/x-python",
   "name": "python",
   "nbconvert_exporter": "python",
   "pygments_lexer": "ipython3",
   "version": "3.8.7"
  }
 },
 "nbformat": 4,
 "nbformat_minor": 4
}