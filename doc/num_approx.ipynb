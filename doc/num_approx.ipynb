{
 "cells": [
  {
   "cell_type": "markdown",
   "metadata": {
    "collapsed": true
   },
   "source": [
    "# Numerical approximation of parametric surface\n",
    "\n",
    "Let's having the surface :\n",
    "$$\n",
    "\\begin{align*}\n",
    "\\mathbf{S} : \\mathbb{R}^2 &\\to \\mathbb{R}^3 \\\\\n",
    "x &\\mapsto \\mathbf{S}(x, y)\n",
    "\\end{align*}\n",
    "$$\n",
    "\n",
    "We need to calculate the following matrices (Jacobian and Hessians) that are defined by the first an second derivative of $\\mathbf{S}$ :\n",
    "\n",
    "$$\n",
    "J = \\begin{bmatrix}\n",
    "\\frac{\\partial S_x}{\\partial u} & \\frac{\\partial S_x}{\\partial v} \\\\\n",
    "\\frac{\\partial S_y}{\\partial u} & \\frac{\\partial S_y}{\\partial v} \\\\\n",
    "\\frac{\\partial S_z}{\\partial u} & \\frac{\\partial S_z}{\\partial v}\n",
    "\\end{bmatrix}\n",
    "$$\n",
    "\n",
    "Where $X$ is $x$, $y$ or $z$ :\n",
    "\n",
    "$$\n",
    "H_X = \\begin{bmatrix}\n",
    "\\frac{\\partial^2 S_X}{\\partial^2 u} & \\frac{\\partial^2 S_X}{\\partial u \\partial v} \\\\\n",
    "\\frac{\\partial^2 S_X}{\\partial u \\partial v} & \\frac{\\partial^2 S_X}{\\partial^2 v}\n",
    "\\end{bmatrix}\n",
    "$$"
   ]
  },
  {
   "cell_type": "code",
   "execution_count": 2,
   "metadata": {},
   "outputs": [],
   "source": [
    "import numpy as np\n",
    "\n",
    "def S(u: float, v: float) -> np.ndarray:\n",
    "    return np.array([\n",
    "        u,\n",
    "        v,\n",
    "        u**2 - v*2\n",
    "    ])"
   ]
  },
  {
   "cell_type": "code",
   "execution_count": 6,
   "metadata": {},
   "outputs": [
    {
     "data": {
      "text/plain": [
       "array([0., 0., 0.])"
      ]
     },
     "execution_count": 6,
     "metadata": {},
     "output_type": "execute_result"
    }
   ],
   "source": [
    "S(0.0, 0.0)"
   ]
  }
 ],
 "metadata": {
  "kernelspec": {
   "display_name": "Python 3",
   "language": "python",
   "name": "python3"
  },
  "language_info": {
   "codemirror_mode": {
    "name": "ipython",
    "version": 3
   },
   "file_extension": ".py",
   "mimetype": "text/x-python",
   "name": "python",
   "nbconvert_exporter": "python",
   "pygments_lexer": "ipython3",
   "version": "3.8.7"
  }
 },
 "nbformat": 4,
 "nbformat_minor": 1
}
