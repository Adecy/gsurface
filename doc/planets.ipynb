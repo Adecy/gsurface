{
 "cells": [
  {
   "cell_type": "markdown",
   "metadata": {
    "collapsed": true,
    "pycharm": {
     "name": "#%% md\n"
    }
   },
   "source": [
    "# Sun & Earth\n",
    "\n",
    "In this example sheet, we will try to simulate the rotation of the earth around the Sun.\n",
    "\n",
    "Parameters\n",
    "- [Earth](https://en.wikipedia.org/wiki/Earth) \n",
    "    - Mass : m = $5.9722\\times10^{24} kg$\n",
    "    - Aphelion : $A = 1.521 \\times 10^{11} m$\n",
    "    - Perihelion : $P = 1.471 \\times 10^{11} m$\n",
    "- Sun Mass : M = $1.989\\times10^{30} kg$\n",
    "- [Gravitational Constant](https://en.wikipedia.org/wiki/Gravitational_constant) : $\\mathcal{G} = 6.674 \\times10^{-11}m^3kg^{-1}s^{−2}$\n",
    "\n",
    "Gravitationnal force :\n",
    "$$\\vec{F} = -\\mathcal{G} \\frac{m M} {r^2}\\vec{e_r}$$\n",
    "\n",
    "Numerical scaling :\n",
    "\n",
    "$$F_{min} = \\mathcal{G} \\frac{m M} {P^2} = 6.674 \\times10^{-11} \\frac{5.9722\\times10^{24} \\times 1.989\\times10^{30}} {(1.471 \\times 10^9)^2} = \\frac{6.674 \\times 5.9722 \\times 1.989}{1.471^2} \\times 10^{-11 + 24 + 30 - 11\\times2}$$\n",
    "\n",
    "**todo ...**"
   ]
  }
 ],
 "metadata": {
  "kernelspec": {
   "display_name": "Python 3",
   "language": "python",
   "name": "python3"
  },
  "language_info": {
   "codemirror_mode": {
    "name": "ipython",
    "version": 3
   },
   "file_extension": ".py",
   "mimetype": "text/x-python",
   "name": "python",
   "nbconvert_exporter": "python",
   "pygments_lexer": "ipython3",
   "version": "3.8.7"
  }
 },
 "nbformat": 4,
 "nbformat_minor": 1
}