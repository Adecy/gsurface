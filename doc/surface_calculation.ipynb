{
 "cells": [
  {
   "cell_type": "markdown",
   "metadata": {},
   "source": [
    "# Surface surface\n",
    "\n",
    "dynamical notation for sympy\n",
    "\n",
    "* https://stackoverflow.com/questions/25346132/is-it-possible-to-implement-newtons-dot-notation-or-lagranges-prime-notation\n",
    "* https://www.youtube.com/watch?v=lWbeuDwYVto"
   ]
  },
  {
   "cell_type": "code",
   "execution_count": 7,
   "metadata": {},
   "outputs": [],
   "source": [
    "from sympy import *\n",
    "\n",
    "from IPython.display import display, Latex\n",
    "\n",
    "from sympy.physics.vector import dynamicsymbols, init_vprinting\n",
    "from sympy.physics import mechanics\n",
    "\n",
    "R, g, r = symbols('R g r')\n",
    "\n",
    "a, b, c, d, R, k = symbols('a b c d R k')\n",
    "\n",
    "t = symbols('t')\n",
    "\n",
    "u, v = dynamicsymbols(\"u v\")\n",
    "\n",
    "init_vprinting()\n",
    "\n",
    "# u = Function(\"u\")(t)\n",
    "# v = Function(\"v\")(t)"
   ]
  },
  {
   "cell_type": "code",
   "execution_count": 8,
   "metadata": {},
   "outputs": [],
   "source": [
    "from enum import Enum\n",
    "\n",
    "class Surface(Enum):\n",
    "    SPHERE = 0\n",
    "    PLAN = 1\n",
    "    TORE = 2\n",
    "    EGGBOX = 3\n",
    "    CATENOID = 4\n",
    "    CONICAL_CORNER = 5\n",
    "    DUPIN_CYCLIDE = 6\n",
    "    \n",
    "    RDM = 10\n",
    "    MY1 = 11"
   ]
  },
  {
   "cell_type": "code",
   "execution_count": 9,
   "metadata": {},
   "outputs": [
    {
     "data": {
      "text/latex": [
       "$\\displaystyle \\left[\\begin{matrix}R \\operatorname{sin}\\left(v\\right) \\operatorname{cos}\\left(u\\right)\\\\R \\operatorname{sin}\\left(u\\right) \\operatorname{sin}\\left(v\\right)\\\\- R \\operatorname{cos}\\left(v\\right)\\end{matrix}\\right]$"
      ],
      "text/plain": [
       "⎡R⋅sin(v)⋅cos(u)⎤\n",
       "⎢               ⎥\n",
       "⎢R⋅sin(u)⋅sin(v)⎥\n",
       "⎢               ⎥\n",
       "⎣   -R⋅cos(v)   ⎦"
      ]
     },
     "metadata": {},
     "output_type": "display_data"
    }
   ],
   "source": [
    "surface = Surface.SPHERE\n",
    "\n",
    "if surface == Surface.SPHERE: # sphere\n",
    "    x = R * cos(u) * cos(v)\n",
    "    y = R * sin(u) * cos(v)\n",
    "    z = R * sin(v)\n",
    "\n",
    "    # transformation v += pi/2\n",
    "    x = x.subs(v, v - pi/2)\n",
    "    y = y.subs(v, v - pi/2)\n",
    "    z = z.subs(v, v - pi/2)\n",
    "\n",
    "elif surface == Surface.PLAN: # plan\n",
    "    x = u\n",
    "    y = v\n",
    "    z = a*u+b*v\n",
    "\n",
    "elif surface == Surface.TORE: # tore\n",
    "    x = (R + r * cos(v)) * cos(u)\n",
    "    y = (R + r * cos(v)) * sin(u)\n",
    "    z = r * sin(v)\n",
    "    \n",
    "    # transformation v += pi/2\n",
    "    x = x.subs(v, v - pi/2)\n",
    "    y = y.subs(v, v - pi/2)\n",
    "    z = z.subs(v, v - pi/2)\n",
    "    \n",
    "elif surface == Surface.EGGBOX: # egg box\n",
    "    x = u\n",
    "    y = v\n",
    "    z = R*cos(a*u)*cos(b*v)\n",
    "elif surface == Surface.RDM : # rdm\n",
    "    x = u\n",
    "    y = v\n",
    "    z = exp(v)*u\n",
    "elif surface == Surface.CATENOID: # catenoid\n",
    "    x = a*cosh(u)*cos(v)\n",
    "    y = a*cosh(u)*sin(v)\n",
    "    z = a*u\n",
    "elif surface == Surface.CONICAL_CORNER: # conical corner : https://mathcurve.com/surfaces/coinconic/coinconic.shtml\n",
    "    x = u\n",
    "    y = k*u*cos(v)\n",
    "    z = k*a*sin(v)\n",
    "elif surface == Surface.DUPIN_CYCLIDE:\n",
    "    x = (d * (c - a * cos(u) * cos(v)) + b**2 * cos(u)) / (a - c*cos(u) * cos(v))\n",
    "    y = (b * sin(u) * (a - d * cos(v))) / (a - c*cos(u) * cos(v))\n",
    "    z = (b * sin(v) * (c * cos(u) - d)) / (a - c*cos(u) * cos(v))\n",
    "elif surface == Surface.MY1:\n",
    "    x=u - cos(v),\n",
    "    y=v*sin(u) + v,\n",
    "    z=sin(u - v)*u - v,\n",
    "    \n",
    "\n",
    "S = Matrix([x, y, z])\n",
    "\n",
    "display(S)\n",
    "\n",
    "# print(latex(S))"
   ]
  },
  {
   "cell_type": "markdown",
   "metadata": {},
   "source": [
    "### Dérivées partielles premières"
   ]
  },
  {
   "cell_type": "code",
   "execution_count": 10,
   "metadata": {
    "scrolled": true
   },
   "outputs": [
    {
     "data": {
      "text/latex": [
       "$\\displaystyle \\left[\\begin{matrix}- R \\operatorname{sin}\\left(u\\right) \\operatorname{sin}\\left(v\\right)\\\\R \\operatorname{sin}\\left(v\\right) \\operatorname{cos}\\left(u\\right)\\\\0\\end{matrix}\\right]$"
      ],
      "text/plain": [
       "⎡-R⋅sin(u)⋅sin(v)⎤\n",
       "⎢                ⎥\n",
       "⎢R⋅sin(v)⋅cos(u) ⎥\n",
       "⎢                ⎥\n",
       "⎣       0        ⎦"
      ]
     },
     "metadata": {},
     "output_type": "display_data"
    },
    {
     "data": {
      "text/latex": [
       "$\\displaystyle \\left[\\begin{matrix}R \\operatorname{cos}\\left(u\\right) \\operatorname{cos}\\left(v\\right)\\\\R \\operatorname{sin}\\left(u\\right) \\operatorname{cos}\\left(v\\right)\\\\R \\operatorname{sin}\\left(v\\right)\\end{matrix}\\right]$"
      ],
      "text/plain": [
       "⎡R⋅cos(u)⋅cos(v)⎤\n",
       "⎢               ⎥\n",
       "⎢R⋅sin(u)⋅cos(v)⎥\n",
       "⎢               ⎥\n",
       "⎣   R⋅sin(v)    ⎦"
      ]
     },
     "metadata": {},
     "output_type": "display_data"
    }
   ],
   "source": [
    "display(diff(S, u))\n",
    "display(diff(S, v))"
   ]
  },
  {
   "cell_type": "markdown",
   "metadata": {},
   "source": [
    "### Dérivées partielles secondes"
   ]
  },
  {
   "cell_type": "code",
   "execution_count": 11,
   "metadata": {
    "scrolled": true
   },
   "outputs": [
    {
     "data": {
      "text/latex": [
       "$\\displaystyle \\left[\\begin{matrix}- R \\operatorname{sin}\\left(v\\right) \\operatorname{cos}\\left(u\\right) & - R \\operatorname{sin}\\left(u\\right) \\operatorname{sin}\\left(v\\right) & 0\\end{matrix}\\right]$"
      ],
      "text/plain": [
       "[-R⋅sin(v)⋅cos(u)  -R⋅sin(u)⋅sin(v)  0]"
      ]
     },
     "metadata": {},
     "output_type": "display_data"
    },
    {
     "data": {
      "text/latex": [
       "$\\displaystyle \\left[\\begin{matrix}- R \\operatorname{sin}\\left(u\\right) \\operatorname{cos}\\left(v\\right) & R \\operatorname{cos}\\left(u\\right) \\operatorname{cos}\\left(v\\right) & 0\\end{matrix}\\right]$"
      ],
      "text/plain": [
       "[-R⋅sin(u)⋅cos(v)  R⋅cos(u)⋅cos(v)  0]"
      ]
     },
     "metadata": {},
     "output_type": "display_data"
    },
    {
     "data": {
      "text/latex": [
       "$\\displaystyle \\left[\\begin{matrix}- R \\operatorname{sin}\\left(v\\right) \\operatorname{cos}\\left(u\\right) & - R \\operatorname{sin}\\left(u\\right) \\operatorname{sin}\\left(v\\right) & R \\operatorname{cos}\\left(v\\right)\\end{matrix}\\right]$"
      ],
      "text/plain": [
       "[-R⋅sin(v)⋅cos(u)  -R⋅sin(u)⋅sin(v)  R⋅cos(v)]"
      ]
     },
     "metadata": {},
     "output_type": "display_data"
    }
   ],
   "source": [
    "display(diff(S, u, u).transpose())\n",
    "display(diff(S, u, v).transpose())\n",
    "display(diff(S, v, v).transpose())"
   ]
  },
  {
   "cell_type": "markdown",
   "metadata": {},
   "source": [
    "### Equations différentielles du mouvement"
   ]
  },
  {
   "cell_type": "code",
   "execution_count": 12,
   "metadata": {
    "scrolled": true
   },
   "outputs": [
    {
     "data": {
      "image/png": "[encoded data removed]",
      "text/latex": [
       "$\\displaystyle R^{2} \\left(\\operatorname{sin}\\left(2 v\\right) \\dot{u} \\dot{v} - \\frac{\\operatorname{cos}\\left(2 v\\right) \\ddot{u}}{2} + \\frac{\\ddot{u}}{2}\\right) = 0$"
      ],
      "text/plain": [
       " 2 ⎛               cos(2⋅v)⋅ü   ü⎞    \n",
       "R ⋅⎜sin(2⋅v)⋅u̇⋅v̇ - ────────── + ─⎟ = 0\n",
       "   ⎝                   2        2⎠    "
      ]
     },
     "metadata": {},
     "output_type": "display_data"
    },
    {
     "data": {
      "image/png": "[encoded data removed]",
      "text/latex": [
       "$\\displaystyle R \\left(- \\frac{R \\operatorname{sin}\\left(2 v\\right) \\dot{u}^{2}}{2} + R \\ddot{v} + g \\operatorname{sin}\\left(v\\right)\\right) = 0$"
      ],
      "text/plain": [
       "  ⎛              2                 ⎞    \n",
       "  ⎜  R⋅sin(2⋅v)⋅u̇                  ⎟    \n",
       "R⋅⎜- ───────────── + R⋅v̈ + g⋅sin(v)⎟ = 0\n",
       "  ⎝        2                       ⎠    "
      ]
     },
     "metadata": {},
     "output_type": "display_data"
    }
   ],
   "source": [
    "F = Matrix([0, 0, -g])\n",
    "\n",
    "ddS = diff(S, t, t)\n",
    "\n",
    "ddu = diff(u, t, t)\n",
    "ddv = diff(v, t, t)\n",
    "\n",
    "eq = [ddS.dot(diff(S, d)) - F.dot(diff(S, d)) for d in (u, v)]\n",
    "\n",
    "eq = [\n",
    "    Eq(simplify(factor(_, (ddu, ddv))), 0) for _ in eq\n",
    "]\n",
    "display(*eq)"
   ]
  }
 ],
 "metadata": {
  "kernelspec": {
   "display_name": "Python 3",
   "language": "python",
   "name": "python3"
  },
  "language_info": {
   "codemirror_mode": {
    "name": "ipython",
    "version": 3
   },
   "file_extension": ".py",
   "mimetype": "text/x-python",
   "name": "python",
   "nbconvert_exporter": "python",
   "pygments_lexer": "ipython3",
   "version": "3.8.7"
  }
 },
 "nbformat": 4,
 "nbformat_minor": 4
}
