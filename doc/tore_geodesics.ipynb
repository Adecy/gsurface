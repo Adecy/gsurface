{
 "cells": [
  {
   "cell_type": "markdown",
   "metadata": {
    "collapsed": true
   },
   "source": [
    "# Tore geodesics\n",
    "\n",
    "Let's define the following tore :"
   ]
  },
  {
   "cell_type": "code",
   "execution_count": 8,
   "metadata": {},
   "outputs": [],
   "source": [
    "from gsurface.surface import Tore\n",
    "from gsurface.plotter import mayavi_plot_surfaces, SurfacePlot\n",
    "\n",
    "tore = Tore(r=0.5, R=1.0)\n",
    "\n",
    "surface = tore.build_surface(*tore.mesh(50, 50))\n",
    "\n",
    "mayavi_plot_surfaces([SurfacePlot(surface)])"
   ]
  }
 ],
 "metadata": {
  "kernelspec": {
   "display_name": "Python 3",
   "language": "python",
   "name": "python3"
  },
  "language_info": {
   "codemirror_mode": {
    "name": "ipython",
    "version": 3
   },
   "file_extension": ".py",
   "mimetype": "text/x-python",
   "name": "python",
   "nbconvert_exporter": "python",
   "pygments_lexer": "ipython3",
   "version": "3.8.7"
  }
 },
 "nbformat": 4,
 "nbformat_minor": 1
}
