{
 "cells": [
  {
   "cell_type": "markdown",
   "metadata": {},
   "source": [
    "# Surface surface\n",
    "\n",
    "dynamical notation for sympy\n",
    "\n",
    "* https://stackoverflow.com/questions/25346132/is-it-possible-to-implement-newtons-dot-notation-or-lagranges-prime-notation\n",
    "* https://www.youtube.com/watch?v=lWbeuDwYVto"
   ]
  },
  {
   "cell_type": "code",
   "execution_count": 2,
   "metadata": {
    "pycharm": {
     "is_executing": true
    }
   },
   "outputs": [],
   "source": [
    "from sympy import *\n",
    "\n",
    "from IPython.display import display, Latex\n",
    "\n",
    "from sympy.physics.vector import dynamicsymbols, init_vprinting\n",
    "from sympy.physics import mechanics\n",
    "\n",
    "R, g, r = symbols('R g r')\n",
    "\n",
    "a, b, c, d, R, k = symbols('a b c d R k')\n",
    "\n",
    "t = symbols('t')\n",
    "\n",
    "u, v = dynamicsymbols(\"u v\")\n",
    "\n",
    "init_vprinting()\n",
    "\n",
    "# u = Function(\"u\")(t)\n",
    "# v = Function(\"v\")(t)"
   ]
  },
  {
   "cell_type": "code",
   "execution_count": 3,
   "metadata": {},
   "outputs": [],
   "source": [
    "from enum import Enum\n",
    "\n",
    "class Surface(Enum):\n",
    "    SPHERE = 0\n",
    "    PLAN = 1\n",
    "    TORE = 2\n",
    "    EGGBOX = 3\n",
    "    CATENOID = 4\n",
    "    CONICAL_CORNER = 5\n",
    "    DUPIN_CYCLIDE = 6\n",
    "    \n",
    "    RDM = 10"
   ]
  },
  {
   "cell_type": "code",
   "execution_count": 4,
   "metadata": {
    "pycharm": {
     "is_executing": true
    }
   },
   "outputs": [
    {
     "data": {
      "text/latex": [
       "$\\displaystyle \\left[\\begin{matrix}u\\\\v\\\\a u + b v\\end{matrix}\\right]$"
      ],
      "text/plain": [
       "⎡    u    ⎤\n",
       "⎢         ⎥\n",
       "⎢    v    ⎥\n",
       "⎢         ⎥\n",
       "⎣a⋅u + b⋅v⎦"
      ]
     },
     "metadata": {},
     "output_type": "display_data"
    }
   ],
   "source": [
    "surface = Surface.PLAN\n",
    "\n",
    "if surface == Surface.SPHERE: # sphere\n",
    "    x = R * cos(u) * cos(v)\n",
    "    y = R * sin(u) * cos(v)\n",
    "    z = R * sin(v)\n",
    "\n",
    "    # transformation v += pi/2\n",
    "    x = x.subs(v, v - pi/2)\n",
    "    y = y.subs(v, v - pi/2)\n",
    "    z = z.subs(v, v - pi/2)\n",
    "\n",
    "elif surface == Surface.PLAN: # plan\n",
    "    x = u\n",
    "    y = v\n",
    "    z = a*u+b*v\n",
    "\n",
    "elif surface == Surface.TORE: # tore\n",
    "    x = (R + r * cos(v)) * cos(u)\n",
    "    y = (R + r * cos(v)) * sin(u)\n",
    "    z = r * sin(v)\n",
    "    \n",
    "    # transformation v += pi/2\n",
    "    x = x.subs(v, v - pi/2)\n",
    "    y = y.subs(v, v - pi/2)\n",
    "    z = z.subs(v, v - pi/2)\n",
    "    \n",
    "elif surface == Surface.EGGBOX: # egg box\n",
    "    x = u\n",
    "    y = v\n",
    "    z = R*cos(a*u)*cos(b*v)\n",
    "elif surface == Surface.RDM : # rdm\n",
    "    x = u\n",
    "    y = v\n",
    "    z = exp(v)*u\n",
    "elif surface == Surface.CATENOID: # catenoid\n",
    "    x = a*cosh(u)*cos(v)\n",
    "    y = a*cosh(u)*sin(v)\n",
    "    z = a*u\n",
    "elif surface == Surface.CONICAL_CORNER: # conical corner : https://mathcurve.com/surfaces/coinconic/coinconic.shtml\n",
    "    x = u\n",
    "    y = k*u*cos(v)\n",
    "    z = k*a*sin(v)\n",
    "elif surface == Surface.DUPIN_CYCLIDE:\n",
    "    x = (d * (c - a * cos(u) * cos(v)) + b**2 * cos(u)) / (a - c*cos(u) * cos(v))\n",
    "    y = (b * sin(u) * (a - d * cos(v))) / (a - c*cos(u) * cos(v))\n",
    "    z = (b * sin(v) * (c * cos(u) - d)) / (a - c*cos(u) * cos(v))\n",
    "    \n",
    "\n",
    "S = Matrix([x, y, z])\n",
    "\n",
    "display(S)"
   ]
  },
  {
   "cell_type": "markdown",
   "metadata": {},
   "source": [
    "### Dérivées partielles premières"
   ]
  },
  {
   "cell_type": "code",
   "execution_count": 5,
   "metadata": {
    "pycharm": {
     "is_executing": true
    },
    "scrolled": true
   },
   "outputs": [
    {
     "data": {
      "text/latex": [
       "$\\displaystyle \\left[\\begin{matrix}1\\\\0\\\\a\\end{matrix}\\right]$"
      ],
      "text/plain": [
       "⎡1⎤\n",
       "⎢ ⎥\n",
       "⎢0⎥\n",
       "⎢ ⎥\n",
       "⎣a⎦"
      ]
     },
     "metadata": {},
     "output_type": "display_data"
    },
    {
     "data": {
      "text/latex": [
       "$\\displaystyle \\left[\\begin{matrix}0\\\\1\\\\b\\end{matrix}\\right]$"
      ],
      "text/plain": [
       "⎡0⎤\n",
       "⎢ ⎥\n",
       "⎢1⎥\n",
       "⎢ ⎥\n",
       "⎣b⎦"
      ]
     },
     "metadata": {},
     "output_type": "display_data"
    }
   ],
   "source": [
    "display(diff(S, u))\n",
    "display(diff(S, v))"
   ]
  },
  {
   "cell_type": "markdown",
   "metadata": {},
   "source": [
    "### Dérivées partielles secondes"
   ]
  },
  {
   "cell_type": "code",
   "execution_count": 6,
   "metadata": {
    "pycharm": {
     "is_executing": true
    },
    "scrolled": true
   },
   "outputs": [
    {
     "data": {
      "text/latex": [
       "$\\displaystyle \\left[\\begin{matrix}0 & 0 & 0\\end{matrix}\\right]$"
      ],
      "text/plain": [
       "[0  0  0]"
      ]
     },
     "metadata": {},
     "output_type": "display_data"
    },
    {
     "data": {
      "text/latex": [
       "$\\displaystyle \\left[\\begin{matrix}0 & 0 & 0\\end{matrix}\\right]$"
      ],
      "text/plain": [
       "[0  0  0]"
      ]
     },
     "metadata": {},
     "output_type": "display_data"
    },
    {
     "data": {
      "text/latex": [
       "$\\displaystyle \\left[\\begin{matrix}0 & 0 & 0\\end{matrix}\\right]$"
      ],
      "text/plain": [
       "[0  0  0]"
      ]
     },
     "metadata": {},
     "output_type": "display_data"
    }
   ],
   "source": [
    "display(diff(S, u, u).transpose())\n",
    "display(diff(S, u, v).transpose())\n",
    "display(diff(S, v, v).transpose())"
   ]
  },
  {
   "cell_type": "markdown",
   "metadata": {},
   "source": [
    "### Equations différentielles du mouvement"
   ]
  },
  {
   "cell_type": "code",
   "execution_count": 7,
   "metadata": {
    "pycharm": {
     "is_executing": true
    },
    "scrolled": true
   },
   "outputs": [
    {
     "data": {
      "image/png": "[encoded data removed]",
      "text/latex": [
       "$\\displaystyle a b \\ddot{v} + a g + \\left(a^{2} + 1\\right) \\ddot{u} = 0$"
      ],
      "text/plain": [
       "              ⎛ 2    ⎞      \n",
       "a⋅b⋅v̈ + a⋅g + ⎝a  + 1⎠⋅ü = 0"
      ]
     },
     "metadata": {},
     "output_type": "display_data"
    },
    {
     "data": {
      "image/png": "[encoded data removed]",
      "text/latex": [
       "$\\displaystyle a b \\ddot{u} + b g + \\left(b^{2} + 1\\right) \\ddot{v} = 0$"
      ],
      "text/plain": [
       "              ⎛ 2    ⎞      \n",
       "a⋅b⋅ü + b⋅g + ⎝b  + 1⎠⋅v̈ = 0"
      ]
     },
     "metadata": {},
     "output_type": "display_data"
    }
   ],
   "source": [
    "F = Matrix([0, 0, -g])\n",
    "\n",
    "ddS = diff(S, t, t)\n",
    "\n",
    "ddu = diff(u, t, t)\n",
    "ddv = diff(v, t, t)\n",
    "\n",
    "eq = [ddS.dot(diff(S, d)) - F.dot(diff(S, d)) for d in (u, v)]\n",
    "\n",
    "eq = [\n",
    "    Eq(simplify(factor(_, (ddu, ddv))), 0) for _ in eq\n",
    "]\n",
    "display(*eq)"
   ]
  }
 ],
 "metadata": {
  "kernelspec": {
   "display_name": "Python 3",
   "language": "python",
   "name": "python3"
  },
  "language_info": {
   "codemirror_mode": {
    "name": "ipython",
    "version": 3
   },
   "file_extension": ".py",
   "mimetype": "text/x-python",
   "name": "python",
   "nbconvert_exporter": "python",
   "pygments_lexer": "ipython3",
   "version": "3.8.5"
  }
 },
 "nbformat": 4,
 "nbformat_minor": 4
}
