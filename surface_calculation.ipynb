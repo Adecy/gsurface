{
 "cells": [
  {
   "cell_type": "markdown",
   "metadata": {},
   "source": [
    "# Sphere surface\n",
    "\n",
    "dynamical notation for sympy\n",
    "\n",
    "* https://stackoverflow.com/questions/25346132/is-it-possible-to-implement-newtons-dot-notation-or-lagranges-prime-notation\n",
    "* https://www.youtube.com/watch?v=lWbeuDwYVto"
   ]
  },
  {
   "cell_type": "code",
   "execution_count": 16,
   "metadata": {},
   "outputs": [],
   "source": [
    "from sympy import *\n",
    "\n",
    "from IPython.display import display, Latex\n",
    "\n",
    "from sympy.physics.vector import dynamicsymbols, init_vprinting\n",
    "from sympy.physics import mechanics\n",
    "\n",
    "R, g, r = symbols('R g r')\n",
    "\n",
    "a, b, c, R = symbols('a b c R')\n",
    "\n",
    "t = symbols('t')\n",
    "\n",
    "u, v = dynamicsymbols(\"u v\")\n",
    "\n",
    "init_vprinting()\n",
    "\n",
    "# u = Function(\"u\")(t)\n",
    "# v = Function(\"v\")(t)"
   ]
  },
  {
   "cell_type": "code",
   "execution_count": 17,
   "metadata": {},
   "outputs": [
    {
     "data": {
      "image/png": "[encoded data removed]",
      "text/latex": [
       "$\\displaystyle \\left[\\begin{matrix}u\\\\v\\\\u e^{v}\\end{matrix}\\right]$"
      ],
      "text/plain": [
       "⎡ u  ⎤\n",
       "⎢    ⎥\n",
       "⎢ v  ⎥\n",
       "⎢    ⎥\n",
       "⎢   v⎥\n",
       "⎣u⋅ℯ ⎦"
      ]
     },
     "metadata": {},
     "output_type": "display_data"
    }
   ],
   "source": [
    "surface = 4\n",
    "\n",
    "if surface == 0: # sphere\n",
    "    x = R * cos(u) * cos(v)\n",
    "    y = R * sin(u) * cos(v)\n",
    "    z = R * sin(v)\n",
    "\n",
    "    # transformation v += pi/2\n",
    "    x = x.subs(v, v - pi/2)\n",
    "    y = y.subs(v, v - pi/2)\n",
    "    z = z.subs(v, v - pi/2)\n",
    "\n",
    "elif surface == 1: # plan\n",
    "    x = u\n",
    "    y = v\n",
    "    z = a*u+b*v\n",
    "\n",
    "elif surface == 2: # tore\n",
    "    x = (R + r * cos(v)) * cos(u)\n",
    "    y = (R + r * cos(v)) * sin(u)\n",
    "    z = r * sin(v)\n",
    "    \n",
    "    # transformation v += pi/2\n",
    "    x = x.subs(v, v - pi/2)\n",
    "    y = y.subs(v, v - pi/2)\n",
    "    z = z.subs(v, v - pi/2)\n",
    "    \n",
    "elif surface == 3: # egg box\n",
    "    x = u\n",
    "    y = v\n",
    "    z = R*cos(a*u)*cos(b*v)\n",
    "elif surface == 4 : # rdm\n",
    "    x = u\n",
    "    y = v\n",
    "    z = exp(v)*u\n",
    "    \n",
    "\n",
    "S = Matrix([x, y, z])\n",
    "\n",
    "display(S)"
   ]
  },
  {
   "cell_type": "markdown",
   "metadata": {},
   "source": [
    "### Dérivées partielles premières"
   ]
  },
  {
   "cell_type": "code",
   "execution_count": 18,
   "metadata": {
    "scrolled": true
   },
   "outputs": [
    {
     "data": {
      "image/png": "[encoded data removed]",
      "text/latex": [
       "$\\displaystyle \\left[\\begin{matrix}1\\\\0\\\\e^{v}\\end{matrix}\\right]$"
      ],
      "text/plain": [
       "⎡1 ⎤\n",
       "⎢  ⎥\n",
       "⎢0 ⎥\n",
       "⎢  ⎥\n",
       "⎢ v⎥\n",
       "⎣ℯ ⎦"
      ]
     },
     "metadata": {},
     "output_type": "display_data"
    },
    {
     "data": {
      "image/png": "[encoded data removed]",
      "text/latex": [
       "$\\displaystyle \\left[\\begin{matrix}0\\\\1\\\\u e^{v}\\end{matrix}\\right]$"
      ],
      "text/plain": [
       "⎡ 0  ⎤\n",
       "⎢    ⎥\n",
       "⎢ 1  ⎥\n",
       "⎢    ⎥\n",
       "⎢   v⎥\n",
       "⎣u⋅ℯ ⎦"
      ]
     },
     "metadata": {},
     "output_type": "display_data"
    }
   ],
   "source": [
    "display(diff(S, u))\n",
    "display(diff(S, v))"
   ]
  },
  {
   "cell_type": "markdown",
   "metadata": {},
   "source": [
    "### Dérivées partielles secondes"
   ]
  },
  {
   "cell_type": "code",
   "execution_count": 19,
   "metadata": {
    "scrolled": true
   },
   "outputs": [
    {
     "data": {
      "image/png": "[encoded data removed]",
      "text/latex": [
       "$\\displaystyle \\left[\\begin{matrix}0 & 0 & 0\\end{matrix}\\right]$"
      ],
      "text/plain": [
       "[0  0  0]"
      ]
     },
     "metadata": {},
     "output_type": "display_data"
    },
    {
     "data": {
      "image/png": "[encoded data removed]",
      "text/latex": [
       "$\\displaystyle \\left[\\begin{matrix}0 & 0 & e^{v}\\end{matrix}\\right]$"
      ],
      "text/plain": [
       "⎡       v⎤\n",
       "⎣0  0  ℯ ⎦"
      ]
     },
     "metadata": {},
     "output_type": "display_data"
    },
    {
     "data": {
      "image/png": "[encoded data removed]",
      "text/latex": [
       "$\\displaystyle \\left[\\begin{matrix}0 & 0 & u e^{v}\\end{matrix}\\right]$"
      ],
      "text/plain": [
       "⎡         v⎤\n",
       "⎣0  0  u⋅ℯ ⎦"
      ]
     },
     "metadata": {},
     "output_type": "display_data"
    }
   ],
   "source": [
    "display(diff(S, u, u).transpose())\n",
    "display(diff(S, u, v).transpose())\n",
    "display(diff(S, v, v).transpose())"
   ]
  },
  {
   "cell_type": "code",
   "execution_count": 20,
   "metadata": {
    "scrolled": true
   },
   "outputs": [
    {
     "data": {
      "image/png": "[encoded data removed]",
      "text/latex": [
       "$\\displaystyle g e^{v} + \\left(e^{2 v} + 1\\right) \\ddot{u} + u e^{2 v} \\dot{v}^{2} + u e^{2 v} \\ddot{v} + 2 e^{2 v} \\dot{u} \\dot{v} = 0$"
      ],
      "text/plain": [
       "   v   ⎛ 2⋅v    ⎞        2⋅v  2      2⋅v        2⋅v        \n",
       "g⋅ℯ  + ⎝ℯ    + 1⎠⋅ü + u⋅ℯ   ⋅v̇  + u⋅ℯ   ⋅v̈ + 2⋅ℯ   ⋅u̇⋅v̇ = 0"
      ]
     },
     "metadata": {},
     "output_type": "display_data"
    },
    {
     "data": {
      "image/png": "[encoded data removed]",
      "text/latex": [
       "$\\displaystyle g u e^{v} + \\left(u^{2} e^{2 v} + 1\\right) \\ddot{v} + u^{2} e^{2 v} \\dot{v}^{2} + 2 u e^{2 v} \\dot{u} \\dot{v} + u e^{2 v} \\ddot{u} = 0$"
      ],
      "text/plain": [
       "     v   ⎛ 2  2⋅v    ⎞      2  2⋅v  2        2⋅v          2⋅v      \n",
       "g⋅u⋅ℯ  + ⎝u ⋅ℯ    + 1⎠⋅v̈ + u ⋅ℯ   ⋅v̇  + 2⋅u⋅ℯ   ⋅u̇⋅v̇ + u⋅ℯ   ⋅ü = 0"
      ]
     },
     "metadata": {},
     "output_type": "display_data"
    }
   ],
   "source": [
    "F = Matrix([0, 0, -g])\n",
    "\n",
    "ddS = diff(S, t, t)\n",
    "\n",
    "ddu = diff(u, t, t)\n",
    "ddv = diff(v, t, t)\n",
    "\n",
    "eq = [ddS.dot(diff(S, d)) - F.dot(diff(S, d)) for d in (u, v)]\n",
    "\n",
    "eq = [\n",
    "    Eq(simplify(factor(_, (ddu, ddv))), 0) for _ in eq\n",
    "]\n",
    "\n",
    "display(*eq)"
   ]
  }
 ],
 "metadata": {
  "kernelspec": {
   "display_name": "Python 3",
   "language": "python",
   "name": "python3"
  },
  "language_info": {
   "codemirror_mode": {
    "name": "ipython",
    "version": 3
   },
   "file_extension": ".py",
   "mimetype": "text/x-python",
   "name": "python",
   "nbconvert_exporter": "python",
   "pygments_lexer": "ipython3",
   "version": "3.8.3"
  }
 },
 "nbformat": 4,
 "nbformat_minor": 4
}
