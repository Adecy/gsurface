{
 "cells": [
  {
   "cell_type": "markdown",
   "metadata": {},
   "source": [
    "# Surface surface\n",
    "\n",
    "dynamical notation for sympy\n",
    "\n",
    "* https://stackoverflow.com/questions/25346132/is-it-possible-to-implement-newtons-dot-notation-or-lagranges-prime-notation\n",
    "* https://www.youtube.com/watch?v=lWbeuDwYVto"
   ]
  },
  {
   "cell_type": "code",
   "execution_count": 1,
   "metadata": {},
   "outputs": [],
   "source": [
    "from sympy import *\n",
    "\n",
    "from IPython.display import display, Latex\n",
    "\n",
    "from sympy.physics.vector import dynamicsymbols, init_vprinting\n",
    "from sympy.physics import mechanics\n",
    "\n",
    "R, g, r = symbols('R g r')\n",
    "\n",
    "a, b, c, R = symbols('a b c R')\n",
    "\n",
    "t = symbols('t')\n",
    "\n",
    "u, v = dynamicsymbols(\"u v\")\n",
    "\n",
    "init_vprinting()\n",
    "\n",
    "# u = Function(\"u\")(t)\n",
    "# v = Function(\"v\")(t)"
   ]
  },
  {
   "cell_type": "code",
   "execution_count": 2,
   "metadata": {},
   "outputs": [
    {
     "data": {
      "image/png": "[encoded data removed]",
      "text/latex": [
       "$\\displaystyle \\left[\\begin{matrix}a \\operatorname{cos}\\left(v\\right) \\operatorname{cosh}\\left(u\\right)\\\\a \\operatorname{sin}\\left(v\\right) \\operatorname{cosh}\\left(u\\right)\\\\a u\\end{matrix}\\right]$"
      ],
      "text/plain": [
       "⎡a⋅cos(v)⋅cosh(u)⎤\n",
       "⎢                ⎥\n",
       "⎢a⋅sin(v)⋅cosh(u)⎥\n",
       "⎢                ⎥\n",
       "⎣      a⋅u       ⎦"
      ]
     },
     "metadata": {},
     "output_type": "display_data"
    }
   ],
   "source": [
    "surface = 5\n",
    "\n",
    "if surface == 0: # sphere\n",
    "    x = R * cos(u) * cos(v)\n",
    "    y = R * sin(u) * cos(v)\n",
    "    z = R * sin(v)\n",
    "\n",
    "    # transformation v += pi/2\n",
    "    x = x.subs(v, v - pi/2)\n",
    "    y = y.subs(v, v - pi/2)\n",
    "    z = z.subs(v, v - pi/2)\n",
    "\n",
    "elif surface == 1: # plan\n",
    "    x = u\n",
    "    y = v\n",
    "    z = a*u+b*v\n",
    "\n",
    "elif surface == 2: # tore\n",
    "    x = (R + r * cos(v)) * cos(u)\n",
    "    y = (R + r * cos(v)) * sin(u)\n",
    "    z = r * sin(v)\n",
    "    \n",
    "    # transformation v += pi/2\n",
    "    x = x.subs(v, v - pi/2)\n",
    "    y = y.subs(v, v - pi/2)\n",
    "    z = z.subs(v, v - pi/2)\n",
    "    \n",
    "elif surface == 3: # egg box\n",
    "    x = u\n",
    "    y = v\n",
    "    z = R*cos(a*u)*cos(b*v)\n",
    "elif surface == 4 : # rdm\n",
    "    x = u\n",
    "    y = v\n",
    "    z = exp(v)*u\n",
    "elif surface == 5: # catenoid\n",
    "    x = a*cosh(u)*cos(v)\n",
    "    y = a*cosh(u)*sin(v)\n",
    "    z = a*u\n",
    "    \n",
    "\n",
    "S = Matrix([x, y, z])\n",
    "\n",
    "display(S)"
   ]
  },
  {
   "cell_type": "markdown",
   "metadata": {},
   "source": [
    "### Dérivées partielles premières"
   ]
  },
  {
   "cell_type": "code",
   "execution_count": 3,
   "metadata": {
    "scrolled": true
   },
   "outputs": [
    {
     "data": {
      "image/png": "[encoded data removed]",
      "text/latex": [
       "$\\displaystyle \\left[\\begin{matrix}a \\operatorname{cos}\\left(v\\right) \\operatorname{sinh}\\left(u\\right)\\\\a \\operatorname{sin}\\left(v\\right) \\operatorname{sinh}\\left(u\\right)\\\\a\\end{matrix}\\right]$"
      ],
      "text/plain": [
       "⎡a⋅cos(v)⋅sinh(u)⎤\n",
       "⎢                ⎥\n",
       "⎢a⋅sin(v)⋅sinh(u)⎥\n",
       "⎢                ⎥\n",
       "⎣       a        ⎦"
      ]
     },
     "metadata": {},
     "output_type": "display_data"
    },
    {
     "data": {
      "image/png": "[encoded data removed]",
      "text/latex": [
       "$\\displaystyle \\left[\\begin{matrix}- a \\operatorname{sin}\\left(v\\right) \\operatorname{cosh}\\left(u\\right)\\\\a \\operatorname{cos}\\left(v\\right) \\operatorname{cosh}\\left(u\\right)\\\\0\\end{matrix}\\right]$"
      ],
      "text/plain": [
       "⎡-a⋅sin(v)⋅cosh(u)⎤\n",
       "⎢                 ⎥\n",
       "⎢a⋅cos(v)⋅cosh(u) ⎥\n",
       "⎢                 ⎥\n",
       "⎣        0        ⎦"
      ]
     },
     "metadata": {},
     "output_type": "display_data"
    }
   ],
   "source": [
    "display(diff(S, u))\n",
    "display(diff(S, v))"
   ]
  },
  {
   "cell_type": "markdown",
   "metadata": {},
   "source": [
    "### Dérivées partielles secondes"
   ]
  },
  {
   "cell_type": "code",
   "execution_count": 4,
   "metadata": {
    "scrolled": true
   },
   "outputs": [
    {
     "data": {
      "image/png": "[encoded data removed]",
      "text/latex": [
       "$\\displaystyle \\left[\\begin{matrix}a \\operatorname{cos}\\left(v\\right) \\operatorname{cosh}\\left(u\\right) & a \\operatorname{sin}\\left(v\\right) \\operatorname{cosh}\\left(u\\right) & 0\\end{matrix}\\right]$"
      ],
      "text/plain": [
       "[a⋅cos(v)⋅cosh(u)  a⋅sin(v)⋅cosh(u)  0]"
      ]
     },
     "metadata": {},
     "output_type": "display_data"
    },
    {
     "data": {
      "image/png": "[encoded data removed]",
      "text/latex": [
       "$\\displaystyle \\left[\\begin{matrix}- a \\operatorname{sin}\\left(v\\right) \\operatorname{sinh}\\left(u\\right) & a \\operatorname{cos}\\left(v\\right) \\operatorname{sinh}\\left(u\\right) & 0\\end{matrix}\\right]$"
      ],
      "text/plain": [
       "[-a⋅sin(v)⋅sinh(u)  a⋅cos(v)⋅sinh(u)  0]"
      ]
     },
     "metadata": {},
     "output_type": "display_data"
    },
    {
     "data": {
      "image/png": "[encoded data removed]",
      "text/latex": [
       "$\\displaystyle \\left[\\begin{matrix}- a \\operatorname{cos}\\left(v\\right) \\operatorname{cosh}\\left(u\\right) & - a \\operatorname{sin}\\left(v\\right) \\operatorname{cosh}\\left(u\\right) & 0\\end{matrix}\\right]$"
      ],
      "text/plain": [
       "[-a⋅cos(v)⋅cosh(u)  -a⋅sin(v)⋅cosh(u)  0]"
      ]
     },
     "metadata": {},
     "output_type": "display_data"
    }
   ],
   "source": [
    "display(diff(S, u, u).transpose())\n",
    "display(diff(S, u, v).transpose())\n",
    "display(diff(S, v, v).transpose())"
   ]
  },
  {
   "cell_type": "code",
   "execution_count": 5,
   "metadata": {
    "scrolled": true
   },
   "outputs": [
    {
     "data": {
      "image/png": "[encoded data removed]",
      "text/latex": [
       "$\\displaystyle a \\left(\\frac{a \\operatorname{sinh}\\left(2 u\\right) \\dot{u}^{2}}{2} - \\frac{a \\operatorname{sinh}\\left(2 u\\right) \\dot{v}^{2}}{2} + \\frac{a \\operatorname{cosh}\\left(2 u\\right) \\ddot{u}}{2} + \\frac{a \\ddot{u}}{2} + g\\right) = 0$"
      ],
      "text/plain": [
       "  ⎛             2                2                          ⎞    \n",
       "  ⎜a⋅sinh(2⋅u)⋅u̇    a⋅sinh(2⋅u)⋅v̇    a⋅cosh(2⋅u)⋅ü   a⋅ü    ⎟    \n",
       "a⋅⎜────────────── - ────────────── + ───────────── + ─── + g⎟ = 0\n",
       "  ⎝      2                2                2          2     ⎠    "
      ]
     },
     "metadata": {},
     "output_type": "display_data"
    },
    {
     "data": {
      "image/png": "[encoded data removed]",
      "text/latex": [
       "$\\displaystyle a^{2} \\left(\\operatorname{sinh}\\left(2 u\\right) \\dot{u} \\dot{v} + \\frac{\\operatorname{cosh}\\left(2 u\\right) \\ddot{v}}{2} + \\frac{\\ddot{v}}{2}\\right) = 0$"
      ],
      "text/plain": [
       " 2 ⎛                cosh(2⋅u)⋅v̈   v̈⎞    \n",
       "a ⋅⎜sinh(2⋅u)⋅u̇⋅v̇ + ─────────── + ─⎟ = 0\n",
       "   ⎝                     2        2⎠    "
      ]
     },
     "metadata": {},
     "output_type": "display_data"
    }
   ],
   "source": [
    "F = Matrix([0, 0, -g])\n",
    "\n",
    "ddS = diff(S, t, t)\n",
    "\n",
    "ddu = diff(u, t, t)\n",
    "ddv = diff(v, t, t)\n",
    "\n",
    "eq = [ddS.dot(diff(S, d)) - F.dot(diff(S, d)) for d in (u, v)]\n",
    "\n",
    "eq = [\n",
    "    Eq(simplify(factor(_, (ddu, ddv))), 0) for _ in eq\n",
    "]\n",
    "\n",
    "display(*eq)"
   ]
  }
 ],
 "metadata": {
  "kernelspec": {
   "display_name": "Python 3",
   "language": "python",
   "name": "python3"
  },
  "language_info": {
   "codemirror_mode": {
    "name": "ipython",
    "version": 3
   },
   "file_extension": ".py",
   "mimetype": "text/x-python",
   "name": "python",
   "nbconvert_exporter": "python",
   "pygments_lexer": "ipython3",
   "version": "3.8.3"
  }
 },
 "nbformat": 4,
 "nbformat_minor": 4
}
