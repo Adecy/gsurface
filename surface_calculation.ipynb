{
 "cells": [
  {
   "cell_type": "markdown",
   "metadata": {},
   "source": [
    "# Sphere surface\n",
    "\n",
    "dynamical notation for sympy\n",
    "\n",
    "* https://stackoverflow.com/questions/25346132/is-it-possible-to-implement-newtons-dot-notation-or-lagranges-prime-notation\n",
    "* https://www.youtube.com/watch?v=lWbeuDwYVto"
   ]
  },
  {
   "cell_type": "code",
   "execution_count": 36,
   "metadata": {},
   "outputs": [],
   "source": [
    "from sympy import *\n",
    "\n",
    "from IPython.display import display, Latex\n",
    "\n",
    "from sympy.physics.vector import dynamicsymbols, init_vprinting\n",
    "from sympy.physics import mechanics\n",
    "\n",
    "R, g, r = symbols('R g r')\n",
    "\n",
    "a, b, c = symbols('a b c')\n",
    "\n",
    "t = symbols('t')\n",
    "\n",
    "u, v = dynamicsymbols(\"u v\")\n",
    "\n",
    "init_vprinting()\n",
    "\n",
    "# u = Function(\"u\")(t)\n",
    "# v = Function(\"v\")(t)"
   ]
  },
  {
   "cell_type": "code",
   "execution_count": 37,
   "metadata": {},
   "outputs": [
    {
     "data": {
      "image/png": "[encoded data removed]",
      "text/latex": [
       "$\\displaystyle \\left[\\begin{matrix}\\left(R + r \\operatorname{sin}\\left(v\\right)\\right) \\operatorname{cos}\\left(u\\right)\\\\\\left(R + r \\operatorname{sin}\\left(v\\right)\\right) \\operatorname{sin}\\left(u\\right)\\\\- r \\operatorname{cos}\\left(v\\right)\\end{matrix}\\right]$"
      ],
      "text/plain": [
       "⎡(R + r⋅sin(v))⋅cos(u)⎤\n",
       "⎢                     ⎥\n",
       "⎢(R + r⋅sin(v))⋅sin(u)⎥\n",
       "⎢                     ⎥\n",
       "⎣      -r⋅cos(v)      ⎦"
      ]
     },
     "metadata": {},
     "output_type": "display_data"
    }
   ],
   "source": [
    "surface = 2\n",
    "\n",
    "if surface == 0: # sphere\n",
    "    x = R * cos(u) * cos(v)\n",
    "    y = R * sin(u) * cos(v)\n",
    "    z = R * sin(v)\n",
    "\n",
    "    # transformation v += pi/2\n",
    "    x = x.subs(v, v - pi/2)\n",
    "    y = y.subs(v, v - pi/2)\n",
    "    z = z.subs(v, v - pi/2)\n",
    "\n",
    "elif surface == 1: # plan\n",
    "    x = u\n",
    "    y = v\n",
    "    z = a*u+b*v\n",
    "\n",
    "elif surface == 2: # tore\n",
    "    x = (R + r * cos(v)) * cos(u)\n",
    "    y = (R + r * cos(v)) * sin(u)\n",
    "    z = r * sin(v)\n",
    "    \n",
    "    # transformation v += pi/2\n",
    "    x = x.subs(v, v - pi/2)\n",
    "    y = y.subs(v, v - pi/2)\n",
    "    z = z.subs(v, v - pi/2)\n",
    "\n",
    "S = Matrix([x, y, z])\n",
    "\n",
    "display(S)"
   ]
  },
  {
   "cell_type": "markdown",
   "metadata": {},
   "source": [
    "### Dérivées partielles premières"
   ]
  },
  {
   "cell_type": "code",
   "execution_count": 38,
   "metadata": {
    "scrolled": true
   },
   "outputs": [
    {
     "data": {
      "image/png": "[encoded data removed]",
      "text/latex": [
       "$\\displaystyle \\left[\\begin{matrix}- \\left(R + r \\operatorname{sin}\\left(v\\right)\\right) \\operatorname{sin}\\left(u\\right)\\\\\\left(R + r \\operatorname{sin}\\left(v\\right)\\right) \\operatorname{cos}\\left(u\\right)\\\\0\\end{matrix}\\right]$"
      ],
      "text/plain": [
       "⎡-(R + r⋅sin(v))⋅sin(u)⎤\n",
       "⎢                      ⎥\n",
       "⎢(R + r⋅sin(v))⋅cos(u) ⎥\n",
       "⎢                      ⎥\n",
       "⎣          0           ⎦"
      ]
     },
     "metadata": {},
     "output_type": "display_data"
    },
    {
     "data": {
      "image/png": "[encoded data removed]",
      "text/latex": [
       "$\\displaystyle \\left[\\begin{matrix}r \\operatorname{cos}\\left(u\\right) \\operatorname{cos}\\left(v\\right)\\\\r \\operatorname{sin}\\left(u\\right) \\operatorname{cos}\\left(v\\right)\\\\r \\operatorname{sin}\\left(v\\right)\\end{matrix}\\right]$"
      ],
      "text/plain": [
       "⎡r⋅cos(u)⋅cos(v)⎤\n",
       "⎢               ⎥\n",
       "⎢r⋅sin(u)⋅cos(v)⎥\n",
       "⎢               ⎥\n",
       "⎣   r⋅sin(v)    ⎦"
      ]
     },
     "metadata": {},
     "output_type": "display_data"
    }
   ],
   "source": [
    "display(diff(S, u))\n",
    "display(diff(S, v))"
   ]
  },
  {
   "cell_type": "markdown",
   "metadata": {},
   "source": [
    "### Dérivées partielles secondes"
   ]
  },
  {
   "cell_type": "code",
   "execution_count": 39,
   "metadata": {
    "scrolled": true
   },
   "outputs": [
    {
     "data": {
      "image/png": "[encoded data removed]",
      "text/latex": [
       "$\\displaystyle \\left[\\begin{matrix}- \\left(R + r \\operatorname{sin}\\left(v\\right)\\right) \\operatorname{cos}\\left(u\\right) & - \\left(R + r \\operatorname{sin}\\left(v\\right)\\right) \\operatorname{sin}\\left(u\\right) & 0\\end{matrix}\\right]$"
      ],
      "text/plain": [
       "[-(R + r⋅sin(v))⋅cos(u)  -(R + r⋅sin(v))⋅sin(u)  0]"
      ]
     },
     "metadata": {},
     "output_type": "display_data"
    },
    {
     "data": {
      "image/png": "[encoded data removed]",
      "text/latex": [
       "$\\displaystyle \\left[\\begin{matrix}- r \\operatorname{sin}\\left(u\\right) \\operatorname{cos}\\left(v\\right) & r \\operatorname{cos}\\left(u\\right) \\operatorname{cos}\\left(v\\right) & 0\\end{matrix}\\right]$"
      ],
      "text/plain": [
       "[-r⋅sin(u)⋅cos(v)  r⋅cos(u)⋅cos(v)  0]"
      ]
     },
     "metadata": {},
     "output_type": "display_data"
    },
    {
     "data": {
      "image/png": "[encoded data removed]",
      "text/latex": [
       "$\\displaystyle \\left[\\begin{matrix}- r \\operatorname{sin}\\left(v\\right) \\operatorname{cos}\\left(u\\right) & - r \\operatorname{sin}\\left(u\\right) \\operatorname{sin}\\left(v\\right) & r \\operatorname{cos}\\left(v\\right)\\end{matrix}\\right]$"
      ],
      "text/plain": [
       "[-r⋅sin(v)⋅cos(u)  -r⋅sin(u)⋅sin(v)  r⋅cos(v)]"
      ]
     },
     "metadata": {},
     "output_type": "display_data"
    }
   ],
   "source": [
    "display(diff(S, u, u).transpose())\n",
    "display(diff(S, u, v).transpose())\n",
    "display(diff(S, v, v).transpose())"
   ]
  },
  {
   "cell_type": "code",
   "execution_count": 40,
   "metadata": {
    "scrolled": true
   },
   "outputs": [
    {
     "data": {
      "image/png": "[encoded data removed]",
      "text/latex": [
       "$\\displaystyle \\left(R + r \\operatorname{sin}\\left(v\\right)\\right) \\left(R \\ddot{u} + r \\operatorname{sin}\\left(v\\right) \\ddot{u} + 2 r \\operatorname{cos}\\left(v\\right) \\dot{u} \\dot{v}\\right) = 0$"
      ],
      "text/plain": [
       "(R + r⋅sin(v))⋅(R⋅ü + r⋅sin(v)⋅ü + 2⋅r⋅cos(v)⋅u̇⋅v̇) = 0"
      ]
     },
     "metadata": {},
     "output_type": "display_data"
    },
    {
     "data": {
      "image/png": "[encoded data removed]",
      "text/latex": [
       "$\\displaystyle - r \\left(R \\operatorname{cos}\\left(v\\right) \\dot{u}^{2} - g \\operatorname{sin}\\left(v\\right) + \\frac{r \\operatorname{sin}\\left(2 v\\right) \\dot{u}^{2}}{2} - r \\ddot{v}\\right) = 0$"
      ],
      "text/plain": [
       "   ⎛                                     2      ⎞    \n",
       "   ⎜          2              r⋅sin(2⋅v)⋅u̇       ⎟    \n",
       "-r⋅⎜R⋅cos(v)⋅u̇  - g⋅sin(v) + ───────────── - r⋅v̈⎟ = 0\n",
       "   ⎝                               2            ⎠    "
      ]
     },
     "metadata": {},
     "output_type": "display_data"
    }
   ],
   "source": [
    "F = Matrix([0, 0, -g])\n",
    "\n",
    "ddS = diff(S, t, t)\n",
    "\n",
    "ddu = diff(u, t, t)\n",
    "ddv = diff(v, t, t)\n",
    "\n",
    "eq = [ddS.dot(diff(S, d)) - F.dot(diff(S, d)) for d in (u, v)]\n",
    "\n",
    "eq = [\n",
    "    Eq(simplify(factor(_, (ddu, ddv))), 0) for _ in eq\n",
    "]\n",
    "\n",
    "display(*eq)"
   ]
  }
 ],
 "metadata": {
  "kernelspec": {
   "display_name": "Python 3",
   "language": "python",
   "name": "python3"
  },
  "language_info": {
   "codemirror_mode": {
    "name": "ipython",
    "version": 3
   },
   "file_extension": ".py",
   "mimetype": "text/x-python",
   "name": "python",
   "nbconvert_exporter": "python",
   "pygments_lexer": "ipython3",
   "version": "3.8.3"
  }
 },
 "nbformat": 4,
 "nbformat_minor": 4
}
