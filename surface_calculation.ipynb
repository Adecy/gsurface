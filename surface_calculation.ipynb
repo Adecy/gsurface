{
 "cells": [
  {
   "cell_type": "markdown",
   "metadata": {},
   "source": [
    "# Surface surface\n",
    "\n",
    "dynamical notation for sympy\n",
    "\n",
    "* https://stackoverflow.com/questions/25346132/is-it-possible-to-implement-newtons-dot-notation-or-lagranges-prime-notation\n",
    "* https://www.youtube.com/watch?v=lWbeuDwYVto"
   ]
  },
  {
   "cell_type": "code",
   "execution_count": 6,
   "metadata": {},
   "outputs": [],
   "source": [
    "from sympy import *\n",
    "\n",
    "from IPython.display import display, Latex\n",
    "\n",
    "from sympy.physics.vector import dynamicsymbols, init_vprinting\n",
    "from sympy.physics import mechanics\n",
    "\n",
    "R, g, r = symbols('R g r')\n",
    "\n",
    "a, b, c, R, k = symbols('a b c R k')\n",
    "\n",
    "t = symbols('t')\n",
    "\n",
    "u, v = dynamicsymbols(\"u v\")\n",
    "\n",
    "init_vprinting()\n",
    "\n",
    "# u = Function(\"u\")(t)\n",
    "# v = Function(\"v\")(t)"
   ]
  },
  {
   "cell_type": "code",
   "execution_count": 7,
   "metadata": {},
   "outputs": [
    {
     "data": {
      "image/png": "[encoded data removed]",
      "text/latex": [
       "$\\displaystyle \\left[\\begin{matrix}u\\\\k u \\operatorname{cos}\\left(v\\right)\\\\a k \\operatorname{sin}\\left(v\\right)\\end{matrix}\\right]$"
      ],
      "text/plain": [
       "⎡    u     ⎤\n",
       "⎢          ⎥\n",
       "⎢k⋅u⋅cos(v)⎥\n",
       "⎢          ⎥\n",
       "⎣a⋅k⋅sin(v)⎦"
      ]
     },
     "metadata": {},
     "output_type": "display_data"
    }
   ],
   "source": [
    "surface = 6\n",
    "\n",
    "if surface == 0: # sphere\n",
    "    x = R * cos(u) * cos(v)\n",
    "    y = R * sin(u) * cos(v)\n",
    "    z = R * sin(v)\n",
    "\n",
    "    # transformation v += pi/2\n",
    "    x = x.subs(v, v - pi/2)\n",
    "    y = y.subs(v, v - pi/2)\n",
    "    z = z.subs(v, v - pi/2)\n",
    "\n",
    "elif surface == 1: # plan\n",
    "    x = u\n",
    "    y = v\n",
    "    z = a*u+b*v\n",
    "\n",
    "elif surface == 2: # tore\n",
    "    x = (R + r * cos(v)) * cos(u)\n",
    "    y = (R + r * cos(v)) * sin(u)\n",
    "    z = r * sin(v)\n",
    "    \n",
    "    # transformation v += pi/2\n",
    "    x = x.subs(v, v - pi/2)\n",
    "    y = y.subs(v, v - pi/2)\n",
    "    z = z.subs(v, v - pi/2)\n",
    "    \n",
    "elif surface == 3: # egg box\n",
    "    x = u\n",
    "    y = v\n",
    "    z = R*cos(a*u)*cos(b*v)\n",
    "elif surface == 4 : # rdm\n",
    "    x = u\n",
    "    y = v\n",
    "    z = exp(v)*u\n",
    "elif surface == 5: # catenoid\n",
    "    x = a*cosh(u)*cos(v)\n",
    "    y = a*cosh(u)*sin(v)\n",
    "    z = a*u\n",
    "elif surface == 6: # conical corner : https://mathcurve.com/surfaces/coinconic/coinconic.shtml\n",
    "    x = u\n",
    "    y = k*u*cos(v)\n",
    "    z = k*a*sin(v)\n",
    "    \n",
    "\n",
    "S = Matrix([x, y, z])\n",
    "\n",
    "display(S)"
   ]
  },
  {
   "cell_type": "markdown",
   "metadata": {},
   "source": [
    "### Dérivées partielles premières"
   ]
  },
  {
   "cell_type": "code",
   "execution_count": 8,
   "metadata": {
    "scrolled": true
   },
   "outputs": [
    {
     "data": {
      "image/png": "[encoded data removed]",
      "text/latex": [
       "$\\displaystyle \\left[\\begin{matrix}1\\\\k \\operatorname{cos}\\left(v\\right)\\\\0\\end{matrix}\\right]$"
      ],
      "text/plain": [
       "⎡   1    ⎤\n",
       "⎢        ⎥\n",
       "⎢k⋅cos(v)⎥\n",
       "⎢        ⎥\n",
       "⎣   0    ⎦"
      ]
     },
     "metadata": {},
     "output_type": "display_data"
    },
    {
     "data": {
      "image/png": "[encoded data removed]",
      "text/latex": [
       "$\\displaystyle \\left[\\begin{matrix}0\\\\- k u \\operatorname{sin}\\left(v\\right)\\\\a k \\operatorname{cos}\\left(v\\right)\\end{matrix}\\right]$"
      ],
      "text/plain": [
       "⎡     0     ⎤\n",
       "⎢           ⎥\n",
       "⎢-k⋅u⋅sin(v)⎥\n",
       "⎢           ⎥\n",
       "⎣a⋅k⋅cos(v) ⎦"
      ]
     },
     "metadata": {},
     "output_type": "display_data"
    }
   ],
   "source": [
    "display(diff(S, u))\n",
    "display(diff(S, v))"
   ]
  },
  {
   "cell_type": "markdown",
   "metadata": {},
   "source": [
    "### Dérivées partielles secondes"
   ]
  },
  {
   "cell_type": "code",
   "execution_count": 9,
   "metadata": {
    "scrolled": true
   },
   "outputs": [
    {
     "data": {
      "image/png": "[encoded data removed]",
      "text/latex": [
       "$\\displaystyle \\left[\\begin{matrix}0 & 0 & 0\\end{matrix}\\right]$"
      ],
      "text/plain": [
       "[0  0  0]"
      ]
     },
     "metadata": {},
     "output_type": "display_data"
    },
    {
     "data": {
      "image/png": "[encoded data removed]",
      "text/latex": [
       "$\\displaystyle \\left[\\begin{matrix}0 & - k \\operatorname{sin}\\left(v\\right) & 0\\end{matrix}\\right]$"
      ],
      "text/plain": [
       "[0  -k⋅sin(v)  0]"
      ]
     },
     "metadata": {},
     "output_type": "display_data"
    },
    {
     "data": {
      "image/png": "[encoded data removed]",
      "text/latex": [
       "$\\displaystyle \\left[\\begin{matrix}0 & - k u \\operatorname{cos}\\left(v\\right) & - a k \\operatorname{sin}\\left(v\\right)\\end{matrix}\\right]$"
      ],
      "text/plain": [
       "[0  -k⋅u⋅cos(v)  -a⋅k⋅sin(v)]"
      ]
     },
     "metadata": {},
     "output_type": "display_data"
    }
   ],
   "source": [
    "display(diff(S, u, u).transpose())\n",
    "display(diff(S, u, v).transpose())\n",
    "display(diff(S, v, v).transpose())"
   ]
  },
  {
   "cell_type": "code",
   "execution_count": 10,
   "metadata": {
    "scrolled": true
   },
   "outputs": [
    {
     "data": {
      "image/png": "[encoded data removed]",
      "text/latex": [
       "$\\displaystyle - \\frac{k^{2} u \\operatorname{sin}\\left(2 v\\right) \\ddot{v}}{2} - k^{2} u \\operatorname{cos}^{2}\\left(v\\right) \\dot{v}^{2} - k^{2} \\operatorname{sin}\\left(2 v\\right) \\dot{u} \\dot{v} + \\left(k^{2} \\operatorname{cos}^{2}\\left(v\\right) + 1\\right) \\ddot{u} = 0$"
      ],
      "text/plain": [
       "   2                                                                          \n",
       "  k ⋅u⋅sin(2⋅v)⋅v̈    2      2     2    2                ⎛ 2    2       ⎞      \n",
       "- ─────────────── - k ⋅u⋅cos (v)⋅v̇  - k ⋅sin(2⋅v)⋅u̇⋅v̇ + ⎝k ⋅cos (v) + 1⎠⋅ü = 0\n",
       "         2                                                                    "
      ]
     },
     "metadata": {},
     "output_type": "display_data"
    },
    {
     "data": {
      "image/png": "[encoded data removed]",
      "text/latex": [
       "$\\displaystyle k \\left(- \\frac{a^{2} k \\operatorname{sin}\\left(2 v\\right) \\dot{v}^{2}}{2} + a g \\operatorname{cos}\\left(v\\right) + k \\left(a^{2} \\operatorname{cos}^{2}\\left(v\\right) + u^{2} \\operatorname{sin}^{2}\\left(v\\right)\\right) \\ddot{v} + \\frac{k u^{2} \\operatorname{sin}\\left(2 v\\right) \\dot{v}^{2}}{2} + 2 k u \\operatorname{sin}^{2}\\left(v\\right) \\dot{u} \\dot{v} - \\frac{k u \\operatorname{sin}\\left(2 v\\right) \\ddot{u}}{2}\\right) = 0$"
      ],
      "text/plain": [
       "  ⎛   2             2                                                   2     \n",
       "  ⎜  a ⋅k⋅sin(2⋅v)⋅v̇                   ⎛ 2    2       2    2   ⎞     k⋅u ⋅sin\n",
       "k⋅⎜- ──────────────── + a⋅g⋅cos(v) + k⋅⎝a ⋅cos (v) + u ⋅sin (v)⎠⋅v̈ + ────────\n",
       "  ⎝         2                                                               2 \n",
       "\n",
       "      2                                     ⎞    \n",
       "(2⋅v)⋅v̇             2          k⋅u⋅sin(2⋅v)⋅ü⎟    \n",
       "──────── + 2⋅k⋅u⋅sin (v)⋅u̇⋅v̇ - ──────────────⎟ = 0\n",
       "                                    2       ⎠    "
      ]
     },
     "metadata": {},
     "output_type": "display_data"
    }
   ],
   "source": [
    "F = Matrix([0, 0, -g])\n",
    "\n",
    "ddS = diff(S, t, t)\n",
    "\n",
    "ddu = diff(u, t, t)\n",
    "ddv = diff(v, t, t)\n",
    "\n",
    "eq = [ddS.dot(diff(S, d)) - F.dot(diff(S, d)) for d in (u, v)]\n",
    "\n",
    "eq = [\n",
    "    Eq(simplify(factor(_, (ddu, ddv))), 0) for _ in eq\n",
    "]\n",
    "\n",
    "display(*eq)"
   ]
  }
 ],
 "metadata": {
  "kernelspec": {
   "display_name": "Python 3",
   "language": "python",
   "name": "python3"
  },
  "language_info": {
   "codemirror_mode": {
    "name": "ipython",
    "version": 3
   },
   "file_extension": ".py",
   "mimetype": "text/x-python",
   "name": "python",
   "nbconvert_exporter": "python",
   "pygments_lexer": "ipython3",
   "version": "3.8.3"
  }
 },
 "nbformat": 4,
 "nbformat_minor": 4
}
